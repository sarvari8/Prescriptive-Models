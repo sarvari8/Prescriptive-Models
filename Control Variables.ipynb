{
 "cells": [
  {
   "cell_type": "markdown",
   "id": "e8626086-f860-4243-93d6-0d2e7bc0ef64",
   "metadata": {},
   "source": [
    "### Prescriptive Models - Control Variables"
   ]
  },
  {
   "cell_type": "code",
   "execution_count": 1,
   "id": "0afd5c9a-3b7e-400e-924e-956a891f7c0f",
   "metadata": {},
   "outputs": [],
   "source": [
    "import pandas as pd\n",
    "import numpy as np\n",
    "import statsmodels.api as sm\n",
    "import statsmodels.formula.api as smf"
   ]
  },
  {
   "cell_type": "markdown",
   "id": "a69fe0f7-abab-4332-9206-6165636fbc27",
   "metadata": {},
   "source": [
    "### 1. Hospital admission and quality of service"
   ]
  },
  {
   "cell_type": "code",
   "execution_count": 2,
   "id": "2a97aed1-e59e-447a-9249-dde6b00dce74",
   "metadata": {},
   "outputs": [
    {
     "data": {
      "text/html": [
       "<div>\n",
       "<style scoped>\n",
       "    .dataframe tbody tr th:only-of-type {\n",
       "        vertical-align: middle;\n",
       "    }\n",
       "\n",
       "    .dataframe tbody tr th {\n",
       "        vertical-align: top;\n",
       "    }\n",
       "\n",
       "    .dataframe thead th {\n",
       "        text-align: right;\n",
       "    }\n",
       "</style>\n",
       "<table border=\"1\" class=\"dataframe\">\n",
       "  <thead>\n",
       "    <tr style=\"text-align: right;\">\n",
       "      <th></th>\n",
       "      <th>patient_id</th>\n",
       "      <th>hospital_id</th>\n",
       "      <th>admin_year</th>\n",
       "      <th>patient_died_dummy</th>\n",
       "      <th>startage</th>\n",
       "      <th>female_dummy</th>\n",
       "    </tr>\n",
       "  </thead>\n",
       "  <tbody>\n",
       "    <tr>\n",
       "      <th>0</th>\n",
       "      <td>1</td>\n",
       "      <td>D</td>\n",
       "      <td>2003</td>\n",
       "      <td>0</td>\n",
       "      <td>81</td>\n",
       "      <td>0</td>\n",
       "    </tr>\n",
       "    <tr>\n",
       "      <th>1</th>\n",
       "      <td>2</td>\n",
       "      <td>H</td>\n",
       "      <td>2003</td>\n",
       "      <td>1</td>\n",
       "      <td>67</td>\n",
       "      <td>0</td>\n",
       "    </tr>\n",
       "    <tr>\n",
       "      <th>2</th>\n",
       "      <td>3</td>\n",
       "      <td>A</td>\n",
       "      <td>2003</td>\n",
       "      <td>0</td>\n",
       "      <td>54</td>\n",
       "      <td>0</td>\n",
       "    </tr>\n",
       "    <tr>\n",
       "      <th>3</th>\n",
       "      <td>4</td>\n",
       "      <td>E</td>\n",
       "      <td>2003</td>\n",
       "      <td>0</td>\n",
       "      <td>81</td>\n",
       "      <td>0</td>\n",
       "    </tr>\n",
       "    <tr>\n",
       "      <th>4</th>\n",
       "      <td>5</td>\n",
       "      <td>H</td>\n",
       "      <td>2003</td>\n",
       "      <td>0</td>\n",
       "      <td>69</td>\n",
       "      <td>0</td>\n",
       "    </tr>\n",
       "  </tbody>\n",
       "</table>\n",
       "</div>"
      ],
      "text/plain": [
       "   patient_id hospital_id  admin_year  patient_died_dummy  startage  \\\n",
       "0           1           D        2003                   0        81   \n",
       "1           2           H        2003                   1        67   \n",
       "2           3           A        2003                   0        54   \n",
       "3           4           E        2003                   0        81   \n",
       "4           5           H        2003                   0        69   \n",
       "\n",
       "   female_dummy  \n",
       "0             0  \n",
       "1             0  \n",
       "2             0  \n",
       "3             0  \n",
       "4             0  "
      ]
     },
     "execution_count": 2,
     "metadata": {},
     "output_type": "execute_result"
    }
   ],
   "source": [
    "health_data = pd.read_csv('health_data.csv')\n",
    "health_data.head()"
   ]
  },
  {
   "cell_type": "code",
   "execution_count": 3,
   "id": "300128ff-a206-4de9-8cdc-2fcb207a8356",
   "metadata": {},
   "outputs": [
    {
     "data": {
      "text/plain": [
       "array(['D', 'H', 'A', 'E', 'G', 'J', 'B', 'F', 'C', 'I'], dtype=object)"
      ]
     },
     "execution_count": 3,
     "metadata": {},
     "output_type": "execute_result"
    }
   ],
   "source": [
    "health_data.hospital_id.unique()"
   ]
  },
  {
   "cell_type": "markdown",
   "id": "b8c4f319-c659-4784-938d-4aeb354563d4",
   "metadata": {},
   "source": [
    "### Question 1"
   ]
  },
  {
   "cell_type": "code",
   "execution_count": 4,
   "id": "079f88af-2969-41b4-9bf1-ca933a354e26",
   "metadata": {},
   "outputs": [
    {
     "name": "stdout",
     "output_type": "stream",
     "text": [
      "                            OLS Regression Results                            \n",
      "==============================================================================\n",
      "Dep. Variable:     patient_died_dummy   R-squared:                       0.042\n",
      "Model:                            OLS   Adj. R-squared:                  0.042\n",
      "Method:                 Least Squares   F-statistic:                     119.3\n",
      "Date:                Wed, 22 Feb 2023   Prob (F-statistic):          1.75e-220\n",
      "Time:                        14:41:05   Log-Likelihood:                -7416.5\n",
      "No. Observations:               24480   AIC:                         1.485e+04\n",
      "Df Residuals:                   24470   BIC:                         1.493e+04\n",
      "Df Model:                           9                                         \n",
      "Covariance Type:            nonrobust                                         \n",
      "====================================================================================\n",
      "                       coef    std err          t      P>|t|      [0.025      0.975]\n",
      "------------------------------------------------------------------------------------\n",
      "Intercept            0.0970      0.006     16.355      0.000       0.085       0.109\n",
      "hospital_id[T.B]     0.0072      0.008      0.890      0.373      -0.009       0.023\n",
      "hospital_id[T.C]    -0.0483      0.010     -4.776      0.000      -0.068      -0.028\n",
      "hospital_id[T.D]     0.1882      0.008     23.188      0.000       0.172       0.204\n",
      "hospital_id[T.E]    -0.0531      0.011     -4.771      0.000      -0.075      -0.031\n",
      "hospital_id[T.F]     0.0003      0.009      0.030      0.976      -0.017       0.017\n",
      "hospital_id[T.G]     0.0441      0.008      5.273      0.000       0.028       0.061\n",
      "hospital_id[T.H]     0.0038      0.009      0.414      0.679      -0.014       0.022\n",
      "hospital_id[T.I]     0.0318      0.009      3.480      0.001       0.014       0.050\n",
      "hospital_id[T.J]     0.0112      0.011      1.028      0.304      -0.010       0.032\n",
      "==============================================================================\n",
      "Omnibus:                     9228.833   Durbin-Watson:                   2.025\n",
      "Prob(Omnibus):                  0.000   Jarque-Bera (JB):            25954.225\n",
      "Skew:                           2.096   Prob(JB):                         0.00\n",
      "Kurtosis:                       5.807   Cond. No.                         10.0\n",
      "==============================================================================\n",
      "\n",
      "Notes:\n",
      "[1] Standard Errors assume that the covariance matrix of the errors is correctly specified.\n"
     ]
    }
   ],
   "source": [
    "reg1 = smf.ols(formula = 'patient_died_dummy ~ hospital_id', data = health_data)\n",
    "result = reg1.fit()\n",
    "print(result.summary())"
   ]
  },
  {
   "cell_type": "markdown",
   "id": "3c82b98e-cd6c-41fb-92e1-2fdae15a5d6f",
   "metadata": {},
   "source": [
    "#### (a) The intercept is the mortality rate (probability of death) at hospital A, which is `0.0970`. The coefficient for hospital D, `0.1882` indicates the additional probability of death compared to the constant term. Mortality rate of hospital D is 18.82 percentage points higher than that of hospital A. The two coefficients are statistically significant too, looking at the p-value."
   ]
  },
  {
   "cell_type": "markdown",
   "id": "86aecc30-9396-4139-a7a0-53d9b431717b",
   "metadata": {},
   "source": [
    "#### (b) The difference between mortality rates of hospital D and E is obtained by calculating the difference between the coefficients."
   ]
  },
  {
   "cell_type": "code",
   "execution_count": 5,
   "id": "9c231c2b-6ec1-4ae6-a544-29013c8c19a8",
   "metadata": {},
   "outputs": [
    {
     "data": {
      "text/plain": [
       "0.24139049162001222"
      ]
     },
     "execution_count": 5,
     "metadata": {},
     "output_type": "execute_result"
    }
   ],
   "source": [
    "result.params[3] - result.params[4]"
   ]
  },
  {
   "cell_type": "markdown",
   "id": "5152ffce-cba0-4839-a09f-527851aac508",
   "metadata": {},
   "source": [
    "### Question 2"
   ]
  },
  {
   "cell_type": "code",
   "execution_count": 6,
   "id": "c2b3433e-8b9b-47c1-abf5-4c33b89c3b3d",
   "metadata": {},
   "outputs": [
    {
     "data": {
      "text/html": [
       "<div>\n",
       "<style scoped>\n",
       "    .dataframe tbody tr th:only-of-type {\n",
       "        vertical-align: middle;\n",
       "    }\n",
       "\n",
       "    .dataframe tbody tr th {\n",
       "        vertical-align: top;\n",
       "    }\n",
       "\n",
       "    .dataframe thead th {\n",
       "        text-align: right;\n",
       "    }\n",
       "</style>\n",
       "<table border=\"1\" class=\"dataframe\">\n",
       "  <thead>\n",
       "    <tr style=\"text-align: right;\">\n",
       "      <th></th>\n",
       "      <th>patient_id</th>\n",
       "      <th>hospital_id</th>\n",
       "      <th>admin_year</th>\n",
       "      <th>patient_died_dummy</th>\n",
       "      <th>startage</th>\n",
       "      <th>female_dummy</th>\n",
       "    </tr>\n",
       "  </thead>\n",
       "  <tbody>\n",
       "    <tr>\n",
       "      <th>2</th>\n",
       "      <td>3</td>\n",
       "      <td>A</td>\n",
       "      <td>2003</td>\n",
       "      <td>0</td>\n",
       "      <td>54</td>\n",
       "      <td>0</td>\n",
       "    </tr>\n",
       "    <tr>\n",
       "      <th>6</th>\n",
       "      <td>7</td>\n",
       "      <td>A</td>\n",
       "      <td>2003</td>\n",
       "      <td>0</td>\n",
       "      <td>59</td>\n",
       "      <td>0</td>\n",
       "    </tr>\n",
       "    <tr>\n",
       "      <th>12</th>\n",
       "      <td>13</td>\n",
       "      <td>B</td>\n",
       "      <td>2003</td>\n",
       "      <td>0</td>\n",
       "      <td>65</td>\n",
       "      <td>0</td>\n",
       "    </tr>\n",
       "    <tr>\n",
       "      <th>15</th>\n",
       "      <td>16</td>\n",
       "      <td>A</td>\n",
       "      <td>2003</td>\n",
       "      <td>0</td>\n",
       "      <td>61</td>\n",
       "      <td>0</td>\n",
       "    </tr>\n",
       "    <tr>\n",
       "      <th>19</th>\n",
       "      <td>20</td>\n",
       "      <td>A</td>\n",
       "      <td>2003</td>\n",
       "      <td>0</td>\n",
       "      <td>71</td>\n",
       "      <td>0</td>\n",
       "    </tr>\n",
       "  </tbody>\n",
       "</table>\n",
       "</div>"
      ],
      "text/plain": [
       "    patient_id hospital_id  admin_year  patient_died_dummy  startage  \\\n",
       "2            3           A        2003                   0        54   \n",
       "6            7           A        2003                   0        59   \n",
       "12          13           B        2003                   0        65   \n",
       "15          16           A        2003                   0        61   \n",
       "19          20           A        2003                   0        71   \n",
       "\n",
       "    female_dummy  \n",
       "2              0  \n",
       "6              0  \n",
       "12             0  \n",
       "15             0  \n",
       "19             0  "
      ]
     },
     "execution_count": 6,
     "metadata": {},
     "output_type": "execute_result"
    }
   ],
   "source": [
    "health2 = health_data[(health_data.hospital_id == 'A') + (health_data.hospital_id == 'B')]\n",
    "health2.head()"
   ]
  },
  {
   "cell_type": "code",
   "execution_count": 7,
   "id": "3edb728d-127c-49a3-a046-9475cb6b3626",
   "metadata": {},
   "outputs": [
    {
     "name": "stdout",
     "output_type": "stream",
     "text": [
      "                            OLS Regression Results                            \n",
      "==============================================================================\n",
      "Dep. Variable:     patient_died_dummy   R-squared:                       0.000\n",
      "Model:                            OLS   Adj. R-squared:                 -0.000\n",
      "Method:                 Least Squares   F-statistic:                    0.9377\n",
      "Date:                Wed, 22 Feb 2023   Prob (F-statistic):              0.333\n",
      "Time:                        14:41:05   Log-Likelihood:                -1446.8\n",
      "No. Observations:                6611   AIC:                             2898.\n",
      "Df Residuals:                    6609   BIC:                             2911.\n",
      "Df Model:                           1                                         \n",
      "Covariance Type:            nonrobust                                         \n",
      "====================================================================================\n",
      "                       coef    std err          t      P>|t|      [0.025      0.975]\n",
      "------------------------------------------------------------------------------------\n",
      "Intercept            0.0970      0.005     17.791      0.000       0.086       0.108\n",
      "hospital_id[T.B]     0.0072      0.007      0.968      0.333      -0.007       0.022\n",
      "==============================================================================\n",
      "Omnibus:                     3377.258   Durbin-Watson:                   2.031\n",
      "Prob(Omnibus):                  0.000   Jarque-Bera (JB):            14683.814\n",
      "Skew:                           2.650   Prob(JB):                         0.00\n",
      "Kurtosis:                       8.022   Cond. No.                         2.72\n",
      "==============================================================================\n",
      "\n",
      "Notes:\n",
      "[1] Standard Errors assume that the covariance matrix of the errors is correctly specified.\n"
     ]
    }
   ],
   "source": [
    "regAB = smf.ols(formula = 'patient_died_dummy ~ hospital_id', data = health2)\n",
    "resultAB = regAB.fit()\n",
    "print(resultAB.summary())"
   ]
  },
  {
   "cell_type": "markdown",
   "id": "96507855-a46e-44a2-b133-580e4dbb80eb",
   "metadata": {},
   "source": [
    "#### (a) The coefficient for hospital B is statistically insignificant due to the p-value, so we cannot make the assumption of a causal effect. Additionally, there are other variables that influence the mortality rates. Specific patients that visit hospital A may have risk factors or conditions different to those that visit hospital B. There may be other factors (for example demographic data of the patients) that are causing the regression to suffer from omitted variable bias. A controlled experiment must be conducted with sufficient randomization, in order to infer a causal effect. Accounting for the differences inpatients and randomizing will eliminate other effects and ensure an accurate estimate of mortality rates between visiting 2 different hospitals."
   ]
  },
  {
   "cell_type": "code",
   "execution_count": 8,
   "id": "11cf5600-5866-47cb-9e5c-17014d03c72f",
   "metadata": {},
   "outputs": [
    {
     "name": "stdout",
     "output_type": "stream",
     "text": [
      "                            OLS Regression Results                            \n",
      "==============================================================================\n",
      "Dep. Variable:     patient_died_dummy   R-squared:                       0.062\n",
      "Model:                            OLS   Adj. R-squared:                  0.061\n",
      "Method:                 Least Squares   F-statistic:                     434.0\n",
      "Date:                Wed, 22 Feb 2023   Prob (F-statistic):           2.08e-93\n",
      "Time:                        14:41:05   Log-Likelihood:                -1237.0\n",
      "No. Observations:                6611   AIC:                             2478.\n",
      "Df Residuals:                    6609   BIC:                             2492.\n",
      "Df Model:                           1                                         \n",
      "Covariance Type:            nonrobust                                         \n",
      "================================================================================\n",
      "                   coef    std err          t      P>|t|      [0.025      0.975]\n",
      "--------------------------------------------------------------------------------\n",
      "Intercept        0.0615      0.004     15.152      0.000       0.054       0.069\n",
      "female_dummy     0.1812      0.009     20.833      0.000       0.164       0.198\n",
      "==============================================================================\n",
      "Omnibus:                     3098.644   Durbin-Watson:                   2.038\n",
      "Prob(Omnibus):                  0.000   Jarque-Bera (JB):            12364.485\n",
      "Skew:                           2.423   Prob(JB):                         0.00\n",
      "Kurtosis:                       7.627   Cond. No.                         2.56\n",
      "==============================================================================\n",
      "\n",
      "Notes:\n",
      "[1] Standard Errors assume that the covariance matrix of the errors is correctly specified.\n"
     ]
    }
   ],
   "source": [
    "reg_fem  = smf.ols(formula = 'patient_died_dummy ~ female_dummy', data = health2)\n",
    "resultfem = reg_fem.fit()\n",
    "print(resultfem.summary())"
   ]
  },
  {
   "cell_type": "markdown",
   "id": "1929b6db-9940-4a1a-8a17-aa785fa19638",
   "metadata": {},
   "source": [
    "#### (b) We are overestimating the difference in mortality between the 2 hospitals since the female_dummy is a factor that is influencing the mortality rates too."
   ]
  },
  {
   "cell_type": "markdown",
   "id": "f3559b2f-6d95-4d25-9539-e997540e938d",
   "metadata": {},
   "source": [
    "From the initial regression,\n",
    "$$\n",
    "patient\\_died = \\beta_0 +\\beta_1hospital\\_id + e\n",
    "$$\n",
    "\n",
    "Due to OVB, the error term can be expressed as:\n",
    "$$\n",
    "e = \\beta_2female\\_dummy + u\n",
    "$$\n",
    "\n",
    "$$\n",
    "E(\\hat{\\beta}_1) = \\beta_1 + \\frac{Cov(hospital\\_id,e)}{Var(hospital\\_id)} =\\beta_1+\\beta_2\\frac{Cov(hospital\\_id,female\\_dummy)}{Var(hospital\\_id)}.\n",
    "$$\n",
    "\n",
    "The bias is positive, $Cov(hospital\\_id,female\\_dummy)$ and $\\beta_2$ are positive, we are overestimating the effect of difference in the hospital on mortality."
   ]
  },
  {
   "cell_type": "code",
   "execution_count": 9,
   "id": "2f5aaad1-6921-48a8-820e-805a96f0afb1",
   "metadata": {},
   "outputs": [
    {
     "name": "stdout",
     "output_type": "stream",
     "text": [
      "                            OLS Regression Results                            \n",
      "==============================================================================\n",
      "Dep. Variable:     patient_died_dummy   R-squared:                       0.063\n",
      "Model:                            OLS   Adj. R-squared:                  0.062\n",
      "Method:                 Least Squares   F-statistic:                     147.6\n",
      "Date:                Wed, 22 Feb 2023   Prob (F-statistic):           1.43e-92\n",
      "Time:                        14:41:05   Log-Likelihood:                -1232.8\n",
      "No. Observations:                6611   AIC:                             2474.\n",
      "Df Residuals:                    6607   BIC:                             2501.\n",
      "Df Model:                           3                                         \n",
      "Covariance Type:            nonrobust                                         \n",
      "====================================================================================\n",
      "                       coef    std err          t      P>|t|      [0.025      0.975]\n",
      "------------------------------------------------------------------------------------\n",
      "Intercept            0.1165      0.027      4.335      0.000       0.064       0.169\n",
      "hospital_id[T.B]     0.0114      0.007      1.579      0.114      -0.003       0.026\n",
      "female_dummy         0.1836      0.009     21.015      0.000       0.167       0.201\n",
      "startage            -0.0009      0.000     -2.347      0.019      -0.002      -0.000\n",
      "==============================================================================\n",
      "Omnibus:                     3080.506   Durbin-Watson:                   2.037\n",
      "Prob(Omnibus):                  0.000   Jarque-Bera (JB):            12181.285\n",
      "Skew:                           2.411   Prob(JB):                         0.00\n",
      "Kurtosis:                       7.580   Cond. No.                         495.\n",
      "==============================================================================\n",
      "\n",
      "Notes:\n",
      "[1] Standard Errors assume that the covariance matrix of the errors is correctly specified.\n"
     ]
    }
   ],
   "source": [
    "ctrl  = smf.ols(formula = 'patient_died_dummy ~ hospital_id + female_dummy + startage', data = health2)\n",
    "ctrld = ctrl.fit()\n",
    "print(ctrld.summary())"
   ]
  },
  {
   "cell_type": "markdown",
   "id": "b9528b3a-cda3-4049-9be5-ec7a2baa628c",
   "metadata": {},
   "source": [
    "#### (c) I have included the `female_dummy` and `startage` in the regression to try and get closer to the causal estimate. The hospital B coefficient has changed from 0.0072 in the regression without controls to 0.0114 in the regression with controls. This shows that other variables such as the female_dummy have an effect on the mortalities at different hospitals.\\\n",
    "#### Including the female_dummy and age account for omitted variable bias cause by not including them in the regressions. Female_dummy has a clear effect which we observe through the coefficient, which is also significant given the p-value. Startage doesn't have a great effect."
   ]
  },
  {
   "cell_type": "markdown",
   "id": "f366606f-dc84-489f-8841-adb81850ea07",
   "metadata": {},
   "source": [
    "### 2. Demand estimation"
   ]
  },
  {
   "cell_type": "code",
   "execution_count": 10,
   "id": "8a08783c-486c-44f5-aaf6-c74dd0ac34ee",
   "metadata": {},
   "outputs": [],
   "source": [
    "demand_data = pd.read_csv('demand_data.csv')"
   ]
  },
  {
   "cell_type": "code",
   "execution_count": 11,
   "id": "3ff6466f-4caa-46ba-bad5-cdfb4b112da7",
   "metadata": {},
   "outputs": [
    {
     "data": {
      "text/html": [
       "<div>\n",
       "<style scoped>\n",
       "    .dataframe tbody tr th:only-of-type {\n",
       "        vertical-align: middle;\n",
       "    }\n",
       "\n",
       "    .dataframe tbody tr th {\n",
       "        vertical-align: top;\n",
       "    }\n",
       "\n",
       "    .dataframe thead th {\n",
       "        text-align: right;\n",
       "    }\n",
       "</style>\n",
       "<table border=\"1\" class=\"dataframe\">\n",
       "  <thead>\n",
       "    <tr style=\"text-align: right;\">\n",
       "      <th></th>\n",
       "      <th>vendor_id</th>\n",
       "      <th>week</th>\n",
       "      <th>summer_dummy</th>\n",
       "      <th>price</th>\n",
       "      <th>sales</th>\n",
       "    </tr>\n",
       "  </thead>\n",
       "  <tbody>\n",
       "    <tr>\n",
       "      <th>0</th>\n",
       "      <td>1</td>\n",
       "      <td>1</td>\n",
       "      <td>0</td>\n",
       "      <td>2.0</td>\n",
       "      <td>8788.7383</td>\n",
       "    </tr>\n",
       "    <tr>\n",
       "      <th>1</th>\n",
       "      <td>1</td>\n",
       "      <td>2</td>\n",
       "      <td>0</td>\n",
       "      <td>3.0</td>\n",
       "      <td>8937.9863</td>\n",
       "    </tr>\n",
       "    <tr>\n",
       "      <th>2</th>\n",
       "      <td>1</td>\n",
       "      <td>3</td>\n",
       "      <td>0</td>\n",
       "      <td>3.0</td>\n",
       "      <td>8740.1777</td>\n",
       "    </tr>\n",
       "    <tr>\n",
       "      <th>3</th>\n",
       "      <td>1</td>\n",
       "      <td>4</td>\n",
       "      <td>0</td>\n",
       "      <td>3.0</td>\n",
       "      <td>8757.1338</td>\n",
       "    </tr>\n",
       "    <tr>\n",
       "      <th>4</th>\n",
       "      <td>1</td>\n",
       "      <td>5</td>\n",
       "      <td>0</td>\n",
       "      <td>3.0</td>\n",
       "      <td>8739.6104</td>\n",
       "    </tr>\n",
       "  </tbody>\n",
       "</table>\n",
       "</div>"
      ],
      "text/plain": [
       "   vendor_id  week  summer_dummy  price      sales\n",
       "0          1     1             0    2.0  8788.7383\n",
       "1          1     2             0    3.0  8937.9863\n",
       "2          1     3             0    3.0  8740.1777\n",
       "3          1     4             0    3.0  8757.1338\n",
       "4          1     5             0    3.0  8739.6104"
      ]
     },
     "execution_count": 11,
     "metadata": {},
     "output_type": "execute_result"
    }
   ],
   "source": [
    "demand_data.head()"
   ]
  },
  {
   "cell_type": "markdown",
   "id": "1104200d-1be6-4fd8-928d-280d180f6d26",
   "metadata": {},
   "source": [
    "### Question 1"
   ]
  },
  {
   "cell_type": "code",
   "execution_count": 12,
   "id": "522d1ac0-c243-4ea0-af7a-a09cbb57d9f9",
   "metadata": {},
   "outputs": [],
   "source": [
    "demand_v1 = demand_data[demand_data.vendor_id == 1]"
   ]
  },
  {
   "cell_type": "code",
   "execution_count": 13,
   "id": "9e2d5886-d428-48fe-abc2-36d03cfca0ed",
   "metadata": {},
   "outputs": [
    {
     "name": "stdout",
     "output_type": "stream",
     "text": [
      "                            OLS Regression Results                            \n",
      "==============================================================================\n",
      "Dep. Variable:                  sales   R-squared:                       0.006\n",
      "Model:                            OLS   Adj. R-squared:                 -0.013\n",
      "Method:                 Least Squares   F-statistic:                    0.3250\n",
      "Date:                Wed, 22 Feb 2023   Prob (F-statistic):              0.571\n",
      "Time:                        14:41:05   Log-Likelihood:                -360.33\n",
      "No. Observations:                  52   AIC:                             724.7\n",
      "Df Residuals:                      50   BIC:                             728.6\n",
      "Df Model:                           1                                         \n",
      "Covariance Type:            nonrobust                                         \n",
      "==============================================================================\n",
      "                 coef    std err          t      P>|t|      [0.025      0.975]\n",
      "------------------------------------------------------------------------------\n",
      "Intercept   8983.8227    145.437     61.771      0.000    8691.704    9275.941\n",
      "price        -31.2310     54.782     -0.570      0.571    -141.264      78.802\n",
      "==============================================================================\n",
      "Omnibus:                        3.319   Durbin-Watson:                   1.572\n",
      "Prob(Omnibus):                  0.190   Jarque-Bera (JB):                2.367\n",
      "Skew:                           0.346   Prob(JB):                        0.306\n",
      "Kurtosis:                       3.784   Cond. No.                         12.5\n",
      "==============================================================================\n",
      "\n",
      "Notes:\n",
      "[1] Standard Errors assume that the covariance matrix of the errors is correctly specified.\n"
     ]
    }
   ],
   "source": [
    "reg2 = smf.ols(formula = 'sales ~ price', data = demand_v1)\n",
    "result2 = reg2.fit()\n",
    "print(result2.summary())"
   ]
  },
  {
   "cell_type": "code",
   "execution_count": 14,
   "id": "d4b1f0d9-bdb9-4406-91b7-15d1803bebd9",
   "metadata": {},
   "outputs": [
    {
     "name": "stdout",
     "output_type": "stream",
     "text": [
      "                            OLS Regression Results                            \n",
      "==============================================================================\n",
      "Dep. Variable:                  sales   R-squared:                       0.318\n",
      "Model:                            OLS   Adj. R-squared:                  0.290\n",
      "Method:                 Least Squares   F-statistic:                     11.42\n",
      "Date:                Wed, 22 Feb 2023   Prob (F-statistic):           8.49e-05\n",
      "Time:                        14:41:05   Log-Likelihood:                -350.56\n",
      "No. Observations:                  52   AIC:                             707.1\n",
      "Df Residuals:                      49   BIC:                             713.0\n",
      "Df Model:                           2                                         \n",
      "Covariance Type:            nonrobust                                         \n",
      "================================================================================\n",
      "                   coef    std err          t      P>|t|      [0.025      0.975]\n",
      "--------------------------------------------------------------------------------\n",
      "Intercept     9177.5500    128.432     71.458      0.000    8919.455    9435.644\n",
      "price         -141.1887     51.407     -2.746      0.008    -244.496     -37.882\n",
      "summer_dummy   358.5012     75.790      4.730      0.000     206.195     510.807\n",
      "==============================================================================\n",
      "Omnibus:                        0.027   Durbin-Watson:                   1.690\n",
      "Prob(Omnibus):                  0.986   Jarque-Bera (JB):                0.078\n",
      "Skew:                           0.039   Prob(JB):                        0.962\n",
      "Kurtosis:                       2.828   Cond. No.                         13.7\n",
      "==============================================================================\n",
      "\n",
      "Notes:\n",
      "[1] Standard Errors assume that the covariance matrix of the errors is correctly specified.\n"
     ]
    }
   ],
   "source": [
    "reg3 = smf.ols(formula = 'sales ~ price + summer_dummy', data = demand_v1)\n",
    "result3 = reg3.fit()\n",
    "print(result3.summary())"
   ]
  },
  {
   "cell_type": "markdown",
   "id": "42a72150-5642-4010-a60c-d731b125581c",
   "metadata": {},
   "source": [
    "We notice the price coefficient becomes more negative (from -31 to -141) when we add the summer dummy to the regression. This implies `omitted variable bias` exists if we don't include `summer_dummy` in the regression."
   ]
  },
  {
   "cell_type": "markdown",
   "id": "04841b47-bacb-411e-a6c3-0c7f937f6314",
   "metadata": {},
   "source": [
    "For the first regression (reg2),\n",
    "$$\n",
    "sales = \\beta_0 +\\beta_1price + e,\n",
    "$$\n",
    "\n",
    "The effect of summer_dummy is present in `e` and can be represented as:\n",
    "$$\n",
    "e = \\beta_2summer\\_dummy + u.\n",
    "$$\n",
    "\n",
    "So the omitted variable bias formula:\n",
    "$$\n",
    "E(\\hat{\\beta}_1) = \\beta_1 + \\frac{Cov(price,e)}{Var(price)} =\\beta_1+\\beta_2\\frac{Cov(price,summer\\_dummy)}{Var(price)}\n",
    "$$"
   ]
  },
  {
   "cell_type": "markdown",
   "id": "6a79cbc9-387b-427e-8b0a-e78a1dd57f81",
   "metadata": {},
   "source": [
    "#### We overestimate the effect of price on sales when the summer_dummy is not used. Whether it is summer or not will have an effect on ice cream sales, $E(\\hat{\\beta}_1)$ is positive, $Cov(price,summer\\_dummy)$ and $\\beta_2$ are positive too, $\\beta_1$ is negative.\n",
    "#### When we include the summer dummy, OVB due to summer_dummy is no longer present and we get a more accurate estimate of the price coefficient which is not as accurate in the first regression. Including summer_dummy captures the seasonal variation in sales that is correlated with price."
   ]
  },
  {
   "cell_type": "markdown",
   "id": "07b961a6-8e5f-41da-b744-05d9a14c94a5",
   "metadata": {},
   "source": [
    "### Question 2"
   ]
  },
  {
   "cell_type": "code",
   "execution_count": 15,
   "id": "c47d0800-abde-425d-adcd-89453c94eec0",
   "metadata": {},
   "outputs": [],
   "source": [
    "demand_v2 = demand_data[demand_data.vendor_id == 2]"
   ]
  },
  {
   "cell_type": "code",
   "execution_count": 16,
   "id": "40c23f81-16e0-4892-883a-974baf02bf54",
   "metadata": {},
   "outputs": [
    {
     "name": "stdout",
     "output_type": "stream",
     "text": [
      "                            OLS Regression Results                            \n",
      "==============================================================================\n",
      "Dep. Variable:                  sales   R-squared:                       0.133\n",
      "Model:                            OLS   Adj. R-squared:                  0.116\n",
      "Method:                 Least Squares   F-statistic:                     7.684\n",
      "Date:                Wed, 22 Feb 2023   Prob (F-statistic):            0.00781\n",
      "Time:                        14:41:05   Log-Likelihood:                -359.10\n",
      "No. Observations:                  52   AIC:                             722.2\n",
      "Df Residuals:                      50   BIC:                             726.1\n",
      "Df Model:                           1                                         \n",
      "Covariance Type:            nonrobust                                         \n",
      "==============================================================================\n",
      "                 coef    std err          t      P>|t|      [0.025      0.975]\n",
      "------------------------------------------------------------------------------\n",
      "Intercept   8411.1748    219.545     38.312      0.000    7970.205    8852.145\n",
      "price        218.6028     78.863      2.772      0.008      60.202     377.004\n",
      "==============================================================================\n",
      "Omnibus:                        1.154   Durbin-Watson:                   2.369\n",
      "Prob(Omnibus):                  0.562   Jarque-Bera (JB):                0.467\n",
      "Skew:                           0.114   Prob(JB):                        0.792\n",
      "Kurtosis:                       3.404   Cond. No.                         20.2\n",
      "==============================================================================\n",
      "\n",
      "Notes:\n",
      "[1] Standard Errors assume that the covariance matrix of the errors is correctly specified.\n"
     ]
    }
   ],
   "source": [
    "reg4 = smf.ols(formula = 'sales ~ price', data = demand_v2)\n",
    "result4 = reg4.fit()\n",
    "print(result4.summary())"
   ]
  },
  {
   "cell_type": "code",
   "execution_count": 17,
   "id": "9a4314eb-035e-41af-9e2f-a74972a5a686",
   "metadata": {},
   "outputs": [
    {
     "name": "stdout",
     "output_type": "stream",
     "text": [
      "                            OLS Regression Results                            \n",
      "==============================================================================\n",
      "Dep. Variable:                  sales   R-squared:                       0.133\n",
      "Model:                            OLS   Adj. R-squared:                  0.116\n",
      "Method:                 Least Squares   F-statistic:                     7.684\n",
      "Date:                Wed, 22 Feb 2023   Prob (F-statistic):            0.00781\n",
      "Time:                        14:41:05   Log-Likelihood:                -359.10\n",
      "No. Observations:                  52   AIC:                             722.2\n",
      "Df Residuals:                      50   BIC:                             726.1\n",
      "Df Model:                           1                                         \n",
      "Covariance Type:            nonrobust                                         \n",
      "================================================================================\n",
      "                   coef    std err          t      P>|t|      [0.025      0.975]\n",
      "--------------------------------------------------------------------------------\n",
      "Intercept     2105.3159     29.848     70.534      0.000    2045.364    2165.268\n",
      "price         2740.9463     10.951    250.283      0.000    2718.950    2762.943\n",
      "summer_dummy -2522.3436     75.986    -33.195      0.000   -2674.966   -2369.721\n",
      "==============================================================================\n",
      "Omnibus:                        1.154   Durbin-Watson:                   2.369\n",
      "Prob(Omnibus):                  0.562   Jarque-Bera (JB):                0.467\n",
      "Skew:                           0.114   Prob(JB):                        0.792\n",
      "Kurtosis:                       3.404   Cond. No.                     1.04e+16\n",
      "==============================================================================\n",
      "\n",
      "Notes:\n",
      "[1] Standard Errors assume that the covariance matrix of the errors is correctly specified.\n",
      "[2] The smallest eigenvalue is 4.28e-30. This might indicate that there are\n",
      "strong multicollinearity problems or that the design matrix is singular.\n"
     ]
    }
   ],
   "source": [
    "reg5 = smf.ols(formula = 'sales ~ price + summer_dummy', data = demand_v2)\n",
    "result5 = reg5.fit()\n",
    "print(result5.summary())"
   ]
  },
  {
   "cell_type": "code",
   "execution_count": 18,
   "id": "fca81e0e-fa79-4bae-8806-383a0d9f6cd9",
   "metadata": {},
   "outputs": [
    {
     "data": {
      "text/html": [
       "<div>\n",
       "<style scoped>\n",
       "    .dataframe tbody tr th:only-of-type {\n",
       "        vertical-align: middle;\n",
       "    }\n",
       "\n",
       "    .dataframe tbody tr th {\n",
       "        vertical-align: top;\n",
       "    }\n",
       "\n",
       "    .dataframe thead th {\n",
       "        text-align: right;\n",
       "    }\n",
       "</style>\n",
       "<table border=\"1\" class=\"dataframe\">\n",
       "  <thead>\n",
       "    <tr style=\"text-align: right;\">\n",
       "      <th></th>\n",
       "      <th>vendor_id</th>\n",
       "      <th>week</th>\n",
       "      <th>summer_dummy</th>\n",
       "      <th>price</th>\n",
       "      <th>sales</th>\n",
       "    </tr>\n",
       "  </thead>\n",
       "  <tbody>\n",
       "    <tr>\n",
       "      <th>vendor_id</th>\n",
       "      <td>NaN</td>\n",
       "      <td>NaN</td>\n",
       "      <td>NaN</td>\n",
       "      <td>NaN</td>\n",
       "      <td>NaN</td>\n",
       "    </tr>\n",
       "    <tr>\n",
       "      <th>week</th>\n",
       "      <td>NaN</td>\n",
       "      <td>1.000000</td>\n",
       "      <td>0.057703</td>\n",
       "      <td>0.057703</td>\n",
       "      <td>0.152865</td>\n",
       "    </tr>\n",
       "    <tr>\n",
       "      <th>summer_dummy</th>\n",
       "      <td>NaN</td>\n",
       "      <td>0.057703</td>\n",
       "      <td>1.000000</td>\n",
       "      <td>1.000000</td>\n",
       "      <td>0.364969</td>\n",
       "    </tr>\n",
       "    <tr>\n",
       "      <th>price</th>\n",
       "      <td>NaN</td>\n",
       "      <td>0.057703</td>\n",
       "      <td>1.000000</td>\n",
       "      <td>1.000000</td>\n",
       "      <td>0.364969</td>\n",
       "    </tr>\n",
       "    <tr>\n",
       "      <th>sales</th>\n",
       "      <td>NaN</td>\n",
       "      <td>0.152865</td>\n",
       "      <td>0.364969</td>\n",
       "      <td>0.364969</td>\n",
       "      <td>1.000000</td>\n",
       "    </tr>\n",
       "  </tbody>\n",
       "</table>\n",
       "</div>"
      ],
      "text/plain": [
       "              vendor_id      week  summer_dummy     price     sales\n",
       "vendor_id           NaN       NaN           NaN       NaN       NaN\n",
       "week                NaN  1.000000      0.057703  0.057703  0.152865\n",
       "summer_dummy        NaN  0.057703      1.000000  1.000000  0.364969\n",
       "price               NaN  0.057703      1.000000  1.000000  0.364969\n",
       "sales               NaN  0.152865      0.364969  0.364969  1.000000"
      ]
     },
     "execution_count": 18,
     "metadata": {},
     "output_type": "execute_result"
    }
   ],
   "source": [
    "demand_v2.corr()"
   ]
  },
  {
   "cell_type": "markdown",
   "id": "eb23284c-a8aa-497a-bd4b-2f734edc4a25",
   "metadata": {},
   "source": [
    "#### We see that the summer_dummy and price are perfectly correlated. This is be because vendor 2 prices the ice cream based on the season, meaning he raises the price in summer and keeps the price low in winter."
   ]
  },
  {
   "cell_type": "markdown",
   "id": "6e5c2150-5e6e-4362-9196-635173d8fc61",
   "metadata": {},
   "source": [
    "### Question 3"
   ]
  },
  {
   "cell_type": "markdown",
   "id": "4a441b23-de1c-4a8b-bf3d-2f06dff4fb34",
   "metadata": {},
   "source": [
    "#### If any of the vendors didn't systematically alter prices based on the season, we would not see bias in the price coefficient as we include or exclude the summer_dummy in the regression. Omitted variable bias applies when the variable that we have omitted is correlated with the sales. If the omitted variable (in this case summer_dummy) is not correlated to the sales at all, it would be irrelavant, and would not bias the coefficient at all. That said, adding summer_dummy may improve precision of the sales estimate by capturing some of the seasonal variation. Precision increases with decrease in std err.\n"
   ]
  }
 ],
 "metadata": {
  "kernelspec": {
   "display_name": "Python 3 (ipykernel)",
   "language": "python",
   "name": "python3"
  },
  "language_info": {
   "codemirror_mode": {
    "name": "ipython",
    "version": 3
   },
   "file_extension": ".py",
   "mimetype": "text/x-python",
   "name": "python",
   "nbconvert_exporter": "python",
   "pygments_lexer": "ipython3",
   "version": "3.9.13"
  },
  "toc-autonumbering": false,
  "toc-showcode": true,
  "toc-showmarkdowntxt": false
 },
 "nbformat": 4,
 "nbformat_minor": 5
}
