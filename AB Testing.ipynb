{
 "cells": [
  {
   "cell_type": "markdown",
   "id": "76508aa6-5bcd-4647-a9c9-2fade0a3e0f6",
   "metadata": {},
   "source": [
    "## Prescriptive Models - A/B Testing\n"
   ]
  },
  {
   "cell_type": "markdown",
   "id": "9c0af1db-a63b-4f29-987d-ce9bc3a94442",
   "metadata": {
    "tags": []
   },
   "source": [
    "#### Load data and import packages"
   ]
  },
  {
   "cell_type": "code",
   "execution_count": 1,
   "id": "b4b790d5-ac36-4099-a448-d9a1625f8377",
   "metadata": {},
   "outputs": [],
   "source": [
    "import pandas as pd\n",
    "import numpy as np\n",
    "import statsmodels.api as sm\n",
    "import matplotlib.pyplot as plt"
   ]
  },
  {
   "cell_type": "code",
   "execution_count": 2,
   "id": "8d7197d0-9197-4e3b-b816-775779c63ad9",
   "metadata": {},
   "outputs": [],
   "source": [
    "df = pd.read_csv('charitable_giving.csv')"
   ]
  },
  {
   "cell_type": "code",
   "execution_count": 3,
   "id": "656020ea-a354-435c-82f2-366c09608c65",
   "metadata": {},
   "outputs": [
    {
     "data": {
      "text/html": [
       "<div>\n",
       "<style scoped>\n",
       "    .dataframe tbody tr th:only-of-type {\n",
       "        vertical-align: middle;\n",
       "    }\n",
       "\n",
       "    .dataframe tbody tr th {\n",
       "        vertical-align: top;\n",
       "    }\n",
       "\n",
       "    .dataframe thead th {\n",
       "        text-align: right;\n",
       "    }\n",
       "</style>\n",
       "<table border=\"1\" class=\"dataframe\">\n",
       "  <thead>\n",
       "    <tr style=\"text-align: right;\">\n",
       "      <th></th>\n",
       "      <th>donation_amount</th>\n",
       "      <th>donation_dummy</th>\n",
       "      <th>control</th>\n",
       "      <th>treatment</th>\n",
       "      <th>match_ratio</th>\n",
       "      <th>ratio1</th>\n",
       "      <th>ratio2</th>\n",
       "      <th>ratio3</th>\n",
       "      <th>red_state_dummy</th>\n",
       "      <th>months_since_last_donation</th>\n",
       "      <th>highest_previous_donation</th>\n",
       "      <th>prior_donations_num</th>\n",
       "    </tr>\n",
       "  </thead>\n",
       "  <tbody>\n",
       "    <tr>\n",
       "      <th>0</th>\n",
       "      <td>0.0</td>\n",
       "      <td>0.0</td>\n",
       "      <td>0.0</td>\n",
       "      <td>1.0</td>\n",
       "      <td>1.0</td>\n",
       "      <td>1</td>\n",
       "      <td>0.0</td>\n",
       "      <td>0.0</td>\n",
       "      <td>1.0</td>\n",
       "      <td>19.0</td>\n",
       "      <td>500.0</td>\n",
       "      <td>32.0</td>\n",
       "    </tr>\n",
       "    <tr>\n",
       "      <th>1</th>\n",
       "      <td>0.0</td>\n",
       "      <td>0.0</td>\n",
       "      <td>1.0</td>\n",
       "      <td>0.0</td>\n",
       "      <td>0.0</td>\n",
       "      <td>0</td>\n",
       "      <td>0.0</td>\n",
       "      <td>0.0</td>\n",
       "      <td>1.0</td>\n",
       "      <td>29.0</td>\n",
       "      <td>300.0</td>\n",
       "      <td>22.0</td>\n",
       "    </tr>\n",
       "    <tr>\n",
       "      <th>2</th>\n",
       "      <td>0.0</td>\n",
       "      <td>0.0</td>\n",
       "      <td>1.0</td>\n",
       "      <td>0.0</td>\n",
       "      <td>0.0</td>\n",
       "      <td>0</td>\n",
       "      <td>0.0</td>\n",
       "      <td>0.0</td>\n",
       "      <td>1.0</td>\n",
       "      <td>3.0</td>\n",
       "      <td>500.0</td>\n",
       "      <td>22.0</td>\n",
       "    </tr>\n",
       "    <tr>\n",
       "      <th>3</th>\n",
       "      <td>0.0</td>\n",
       "      <td>0.0</td>\n",
       "      <td>0.0</td>\n",
       "      <td>1.0</td>\n",
       "      <td>3.0</td>\n",
       "      <td>0</td>\n",
       "      <td>0.0</td>\n",
       "      <td>1.0</td>\n",
       "      <td>0.0</td>\n",
       "      <td>4.0</td>\n",
       "      <td>250.0</td>\n",
       "      <td>29.0</td>\n",
       "    </tr>\n",
       "    <tr>\n",
       "      <th>4</th>\n",
       "      <td>0.0</td>\n",
       "      <td>0.0</td>\n",
       "      <td>0.0</td>\n",
       "      <td>1.0</td>\n",
       "      <td>2.0</td>\n",
       "      <td>0</td>\n",
       "      <td>1.0</td>\n",
       "      <td>0.0</td>\n",
       "      <td>0.0</td>\n",
       "      <td>8.0</td>\n",
       "      <td>50.0</td>\n",
       "      <td>17.0</td>\n",
       "    </tr>\n",
       "  </tbody>\n",
       "</table>\n",
       "</div>"
      ],
      "text/plain": [
       "   donation_amount  donation_dummy  control  treatment  match_ratio  ratio1  \\\n",
       "0              0.0             0.0      0.0        1.0          1.0       1   \n",
       "1              0.0             0.0      1.0        0.0          0.0       0   \n",
       "2              0.0             0.0      1.0        0.0          0.0       0   \n",
       "3              0.0             0.0      0.0        1.0          3.0       0   \n",
       "4              0.0             0.0      0.0        1.0          2.0       0   \n",
       "\n",
       "   ratio2  ratio3  red_state_dummy  months_since_last_donation  \\\n",
       "0     0.0     0.0              1.0                        19.0   \n",
       "1     0.0     0.0              1.0                        29.0   \n",
       "2     0.0     0.0              1.0                         3.0   \n",
       "3     0.0     1.0              0.0                         4.0   \n",
       "4     1.0     0.0              0.0                         8.0   \n",
       "\n",
       "   highest_previous_donation  prior_donations_num  \n",
       "0                      500.0                 32.0  \n",
       "1                      300.0                 22.0  \n",
       "2                      500.0                 22.0  \n",
       "3                      250.0                 29.0  \n",
       "4                       50.0                 17.0  "
      ]
     },
     "execution_count": 3,
     "metadata": {},
     "output_type": "execute_result"
    }
   ],
   "source": [
    "df.head()"
   ]
  },
  {
   "cell_type": "markdown",
   "id": "44eec2f1-75cb-4574-a75d-0454bcb95305",
   "metadata": {
    "tags": []
   },
   "source": [
    "## Part 1. Table 1\n",
    "***"
   ]
  },
  {
   "cell_type": "code",
   "execution_count": 4,
   "id": "67dbe2d6-758c-41ba-94fc-81cfcd1608c9",
   "metadata": {},
   "outputs": [],
   "source": [
    "# Remove null values for the columns we are using in the regression\n",
    "df1=df.dropna(axis=0,subset=['months_since_last_donation','treatment'])"
   ]
  },
  {
   "cell_type": "code",
   "execution_count": 5,
   "id": "414cdf19-785f-4255-8d02-8b0e556e7378",
   "metadata": {},
   "outputs": [],
   "source": [
    "m1 = sm.OLS(df1[['months_since_last_donation']],sm.add_constant((df1['treatment']))).fit()"
   ]
  },
  {
   "cell_type": "code",
   "execution_count": 6,
   "id": "2f4bf236-b086-41c4-9408-ebebd0f7cf60",
   "metadata": {},
   "outputs": [
    {
     "data": {
      "text/html": [
       "<table class=\"simpletable\">\n",
       "<caption>OLS Regression Results</caption>\n",
       "<tr>\n",
       "  <th>Dep. Variable:</th>    <td>months_since_last_donation</td> <th>  R-squared:         </th>  <td>   0.000</td>  \n",
       "</tr>\n",
       "<tr>\n",
       "  <th>Model:</th>                        <td>OLS</td>            <th>  Adj. R-squared:    </th>  <td>  -0.000</td>  \n",
       "</tr>\n",
       "<tr>\n",
       "  <th>Method:</th>                  <td>Least Squares</td>       <th>  F-statistic:       </th>  <td> 0.01428</td>  \n",
       "</tr>\n",
       "<tr>\n",
       "  <th>Date:</th>                  <td>Thu, 02 Feb 2023</td>      <th>  Prob (F-statistic):</th>   <td> 0.905</td>   \n",
       "</tr>\n",
       "<tr>\n",
       "  <th>Time:</th>                      <td>15:52:50</td>          <th>  Log-Likelihood:    </th> <td>-1.9585e+05</td>\n",
       "</tr>\n",
       "<tr>\n",
       "  <th>No. Observations:</th>           <td> 50082</td>           <th>  AIC:               </th>  <td>3.917e+05</td> \n",
       "</tr>\n",
       "<tr>\n",
       "  <th>Df Residuals:</th>               <td> 50080</td>           <th>  BIC:               </th>  <td>3.917e+05</td> \n",
       "</tr>\n",
       "<tr>\n",
       "  <th>Df Model:</th>                   <td>     1</td>           <th>                     </th>      <td> </td>     \n",
       "</tr>\n",
       "<tr>\n",
       "  <th>Covariance Type:</th>           <td>nonrobust</td>         <th>                     </th>      <td> </td>     \n",
       "</tr>\n",
       "</table>\n",
       "<table class=\"simpletable\">\n",
       "<tr>\n",
       "      <td></td>         <th>coef</th>     <th>std err</th>      <th>t</th>      <th>P>|t|</th>  <th>[0.025</th>    <th>0.975]</th>  \n",
       "</tr>\n",
       "<tr>\n",
       "  <th>const</th>     <td>   12.9981</td> <td>    0.094</td> <td>  138.979</td> <td> 0.000</td> <td>   12.815</td> <td>   13.181</td>\n",
       "</tr>\n",
       "<tr>\n",
       "  <th>treatment</th> <td>    0.0137</td> <td>    0.115</td> <td>    0.119</td> <td> 0.905</td> <td>   -0.211</td> <td>    0.238</td>\n",
       "</tr>\n",
       "</table>\n",
       "<table class=\"simpletable\">\n",
       "<tr>\n",
       "  <th>Omnibus:</th>       <td>8031.352</td> <th>  Durbin-Watson:     </th> <td>   1.714</td> \n",
       "</tr>\n",
       "<tr>\n",
       "  <th>Prob(Omnibus):</th>  <td> 0.000</td>  <th>  Jarque-Bera (JB):  </th> <td>12471.135</td>\n",
       "</tr>\n",
       "<tr>\n",
       "  <th>Skew:</th>           <td> 1.163</td>  <th>  Prob(JB):          </th> <td>    0.00</td> \n",
       "</tr>\n",
       "<tr>\n",
       "  <th>Kurtosis:</th>       <td> 3.751</td>  <th>  Cond. No.          </th> <td>    3.23</td> \n",
       "</tr>\n",
       "</table><br/><br/>Notes:<br/>[1] Standard Errors assume that the covariance matrix of the errors is correctly specified."
      ],
      "text/plain": [
       "<class 'statsmodels.iolib.summary.Summary'>\n",
       "\"\"\"\n",
       "                                OLS Regression Results                                \n",
       "======================================================================================\n",
       "Dep. Variable:     months_since_last_donation   R-squared:                       0.000\n",
       "Model:                                    OLS   Adj. R-squared:                 -0.000\n",
       "Method:                         Least Squares   F-statistic:                   0.01428\n",
       "Date:                        Thu, 02 Feb 2023   Prob (F-statistic):              0.905\n",
       "Time:                                15:52:50   Log-Likelihood:            -1.9585e+05\n",
       "No. Observations:                       50082   AIC:                         3.917e+05\n",
       "Df Residuals:                           50080   BIC:                         3.917e+05\n",
       "Df Model:                                   1                                         \n",
       "Covariance Type:                    nonrobust                                         \n",
       "==============================================================================\n",
       "                 coef    std err          t      P>|t|      [0.025      0.975]\n",
       "------------------------------------------------------------------------------\n",
       "const         12.9981      0.094    138.979      0.000      12.815      13.181\n",
       "treatment      0.0137      0.115      0.119      0.905      -0.211       0.238\n",
       "==============================================================================\n",
       "Omnibus:                     8031.352   Durbin-Watson:                   1.714\n",
       "Prob(Omnibus):                  0.000   Jarque-Bera (JB):            12471.135\n",
       "Skew:                           1.163   Prob(JB):                         0.00\n",
       "Kurtosis:                       3.751   Cond. No.                         3.23\n",
       "==============================================================================\n",
       "\n",
       "Notes:\n",
       "[1] Standard Errors assume that the covariance matrix of the errors is correctly specified.\n",
       "\"\"\""
      ]
     },
     "execution_count": 6,
     "metadata": {},
     "output_type": "execute_result"
    }
   ],
   "source": [
    "m1.summary()"
   ]
  },
  {
   "cell_type": "markdown",
   "id": "06938371-59f2-401f-94de-b90d605b7c40",
   "metadata": {},
   "source": [
    "#### Part 1, Question 1"
   ]
  },
  {
   "cell_type": "code",
   "execution_count": 7,
   "id": "c09a96f8-27e5-4e14-9699-79ef545ce2d0",
   "metadata": {},
   "outputs": [
    {
     "data": {
      "text/plain": [
       "13.011828117982022"
      ]
     },
     "execution_count": 7,
     "metadata": {},
     "output_type": "execute_result"
    }
   ],
   "source": [
    "# Average months since last donation for treatment:\n",
    "m1.predict(pd.DataFrame([[1,1]]))[0]"
   ]
  },
  {
   "cell_type": "code",
   "execution_count": 8,
   "id": "83def635-7517-40e5-b797-00f9659c9ad0",
   "metadata": {},
   "outputs": [
    {
     "data": {
      "text/plain": [
       "12.99814226643523"
      ]
     },
     "execution_count": 8,
     "metadata": {},
     "output_type": "execute_result"
    }
   ],
   "source": [
    "# Average months since last donation for control:\n",
    "m1.predict(pd.DataFrame([[1,0]]))[0]"
   ]
  },
  {
   "cell_type": "markdown",
   "id": "7d33b753-0ca4-4693-a2ea-ae8cf8d3b199",
   "metadata": {},
   "source": [
    "The values align with those in Table 1 in the paper - the means for treatment and control are computed above. However, we can conclude that the effect of months since last donation on treatment is statistically not significant due to the P value which is 0.905, and also has a very small effect."
   ]
  },
  {
   "cell_type": "markdown",
   "id": "12319cb9-5d9c-4826-80ce-2f11b213c888",
   "metadata": {},
   "source": [
    "#### Part 1, Question 2"
   ]
  },
  {
   "cell_type": "markdown",
   "id": "a917783a-06a9-4132-9125-872ed9fbc8a2",
   "metadata": {},
   "source": [
    "The p value is 0.905, which means the result is statistically not significant at a 95% confidence level. This confirms that the treatment group was chosen at random, since we see that the months since last donation and the treatment dummy are unrelated."
   ]
  },
  {
   "cell_type": "markdown",
   "id": "2c271496-073c-4ee7-90aa-6d8fd760c2d0",
   "metadata": {},
   "source": [
    "#### Part 1, Question 3\n",
    "This part of the paper right at the start is used to show that the treatment and control groups have been chosen at random, and have no correlation with other variables used. This confirms that there would be no bias when we run further A/B tests using this data, and our experiments would have valid results and interpretations."
   ]
  },
  {
   "cell_type": "markdown",
   "id": "60fecfce-9909-44c9-8ad4-cf5d6884cc0e",
   "metadata": {
    "tags": []
   },
   "source": [
    "## Part 2. Response Rate Regressions\n",
    "***"
   ]
  },
  {
   "cell_type": "code",
   "execution_count": 9,
   "id": "3180a092-a296-4643-ac62-a87646412aa2",
   "metadata": {},
   "outputs": [],
   "source": [
    "df2=df.dropna(axis=0,subset=['donation_dummy','treatment'])"
   ]
  },
  {
   "cell_type": "code",
   "execution_count": 10,
   "id": "9845237d-4843-4253-899b-9c04118dbf4a",
   "metadata": {},
   "outputs": [],
   "source": [
    "m2 = sm.OLS(df2[['donation_dummy']],sm.add_constant((df2['treatment']))).fit()"
   ]
  },
  {
   "cell_type": "code",
   "execution_count": 11,
   "id": "0201c3e4-c343-4d05-8309-415af20b2e12",
   "metadata": {},
   "outputs": [
    {
     "data": {
      "text/html": [
       "<table class=\"simpletable\">\n",
       "<caption>OLS Regression Results</caption>\n",
       "<tr>\n",
       "  <th>Dep. Variable:</th>     <td>donation_dummy</td>  <th>  R-squared:         </th>  <td>   0.000</td> \n",
       "</tr>\n",
       "<tr>\n",
       "  <th>Model:</th>                   <td>OLS</td>       <th>  Adj. R-squared:    </th>  <td>   0.000</td> \n",
       "</tr>\n",
       "<tr>\n",
       "  <th>Method:</th>             <td>Least Squares</td>  <th>  F-statistic:       </th>  <td>   9.618</td> \n",
       "</tr>\n",
       "<tr>\n",
       "  <th>Date:</th>             <td>Thu, 02 Feb 2023</td> <th>  Prob (F-statistic):</th>   <td>0.00193</td> \n",
       "</tr>\n",
       "<tr>\n",
       "  <th>Time:</th>                 <td>15:52:50</td>     <th>  Log-Likelihood:    </th>  <td>  26630.</td> \n",
       "</tr>\n",
       "<tr>\n",
       "  <th>No. Observations:</th>      <td> 50083</td>      <th>  AIC:               </th> <td>-5.326e+04</td>\n",
       "</tr>\n",
       "<tr>\n",
       "  <th>Df Residuals:</th>          <td> 50081</td>      <th>  BIC:               </th> <td>-5.324e+04</td>\n",
       "</tr>\n",
       "<tr>\n",
       "  <th>Df Model:</th>              <td>     1</td>      <th>                     </th>      <td> </td>    \n",
       "</tr>\n",
       "<tr>\n",
       "  <th>Covariance Type:</th>      <td>nonrobust</td>    <th>                     </th>      <td> </td>    \n",
       "</tr>\n",
       "</table>\n",
       "<table class=\"simpletable\">\n",
       "<tr>\n",
       "      <td></td>         <th>coef</th>     <th>std err</th>      <th>t</th>      <th>P>|t|</th>  <th>[0.025</th>    <th>0.975]</th>  \n",
       "</tr>\n",
       "<tr>\n",
       "  <th>const</th>     <td>    0.0179</td> <td>    0.001</td> <td>   16.225</td> <td> 0.000</td> <td>    0.016</td> <td>    0.020</td>\n",
       "</tr>\n",
       "<tr>\n",
       "  <th>treatment</th> <td>    0.0042</td> <td>    0.001</td> <td>    3.101</td> <td> 0.002</td> <td>    0.002</td> <td>    0.007</td>\n",
       "</tr>\n",
       "</table>\n",
       "<table class=\"simpletable\">\n",
       "<tr>\n",
       "  <th>Omnibus:</th>       <td>59814.280</td> <th>  Durbin-Watson:     </th>  <td>   1.997</td>  \n",
       "</tr>\n",
       "<tr>\n",
       "  <th>Prob(Omnibus):</th>  <td> 0.000</td>   <th>  Jarque-Bera (JB):  </th> <td>4317152.727</td>\n",
       "</tr>\n",
       "<tr>\n",
       "  <th>Skew:</th>           <td> 6.740</td>   <th>  Prob(JB):          </th>  <td>    0.00</td>  \n",
       "</tr>\n",
       "<tr>\n",
       "  <th>Kurtosis:</th>       <td>46.440</td>   <th>  Cond. No.          </th>  <td>    3.23</td>  \n",
       "</tr>\n",
       "</table><br/><br/>Notes:<br/>[1] Standard Errors assume that the covariance matrix of the errors is correctly specified."
      ],
      "text/plain": [
       "<class 'statsmodels.iolib.summary.Summary'>\n",
       "\"\"\"\n",
       "                            OLS Regression Results                            \n",
       "==============================================================================\n",
       "Dep. Variable:         donation_dummy   R-squared:                       0.000\n",
       "Model:                            OLS   Adj. R-squared:                  0.000\n",
       "Method:                 Least Squares   F-statistic:                     9.618\n",
       "Date:                Thu, 02 Feb 2023   Prob (F-statistic):            0.00193\n",
       "Time:                        15:52:50   Log-Likelihood:                 26630.\n",
       "No. Observations:               50083   AIC:                        -5.326e+04\n",
       "Df Residuals:                   50081   BIC:                        -5.324e+04\n",
       "Df Model:                           1                                         \n",
       "Covariance Type:            nonrobust                                         \n",
       "==============================================================================\n",
       "                 coef    std err          t      P>|t|      [0.025      0.975]\n",
       "------------------------------------------------------------------------------\n",
       "const          0.0179      0.001     16.225      0.000       0.016       0.020\n",
       "treatment      0.0042      0.001      3.101      0.002       0.002       0.007\n",
       "==============================================================================\n",
       "Omnibus:                    59814.280   Durbin-Watson:                   1.997\n",
       "Prob(Omnibus):                  0.000   Jarque-Bera (JB):          4317152.727\n",
       "Skew:                           6.740   Prob(JB):                         0.00\n",
       "Kurtosis:                      46.440   Cond. No.                         3.23\n",
       "==============================================================================\n",
       "\n",
       "Notes:\n",
       "[1] Standard Errors assume that the covariance matrix of the errors is correctly specified.\n",
       "\"\"\""
      ]
     },
     "execution_count": 11,
     "metadata": {},
     "output_type": "execute_result"
    }
   ],
   "source": [
    "m2.summary()"
   ]
  },
  {
   "cell_type": "markdown",
   "id": "455c8646-44ad-4f06-8526-ed049d5c5a12",
   "metadata": {},
   "source": [
    "#### Part 2, Question 1\n",
    "The intercept is the mean rate of response of the control set, and the treatment coefficient indicates the added response when the treatment is present. The coefficients are also statistically significant. We can conclude that giving the treatment does have an effect on whether or not a donation is made.\\\n",
    "Below computed averages match with the first row of table 2a as well."
   ]
  },
  {
   "cell_type": "code",
   "execution_count": 12,
   "id": "0978988b-f963-4adf-9ce9-fb3655acba83",
   "metadata": {},
   "outputs": [
    {
     "data": {
      "text/plain": [
       "0.02203856749311288"
      ]
     },
     "execution_count": 12,
     "metadata": {},
     "output_type": "execute_result"
    }
   ],
   "source": [
    "# Average of donation dummy - Treatment\n",
    "m2.predict(pd.DataFrame([[1,1]]))[0]"
   ]
  },
  {
   "cell_type": "code",
   "execution_count": 13,
   "id": "b4091dc2-6cfd-4c61-acdc-99fb322adeec",
   "metadata": {},
   "outputs": [
    {
     "data": {
      "text/plain": [
       "0.01785821298016435"
      ]
     },
     "execution_count": 13,
     "metadata": {},
     "output_type": "execute_result"
    }
   ],
   "source": [
    "# Average of donation dummy - Control\n",
    "m2.predict(pd.DataFrame([[1,0]]))[0]"
   ]
  },
  {
   "cell_type": "markdown",
   "id": "72b4a85e-53ad-4cc6-9b8a-839723de2664",
   "metadata": {},
   "source": [
    "#### Part 2, Question 2"
   ]
  },
  {
   "cell_type": "code",
   "execution_count": 14,
   "id": "64dfe699-ddc1-4fa6-8a88-7900df873c81",
   "metadata": {},
   "outputs": [],
   "source": [
    "df3=df.dropna(axis=0,subset=['ratio1','ratio2','ratio3','treatment'])"
   ]
  },
  {
   "cell_type": "code",
   "execution_count": 15,
   "id": "5aaa9fa3-01ca-4d34-86ea-ae51b602945c",
   "metadata": {},
   "outputs": [],
   "source": [
    "m3 = sm.OLS(df3[['donation_dummy']],sm.add_constant(df3[['ratio1','ratio2','ratio3']])).fit()"
   ]
  },
  {
   "cell_type": "code",
   "execution_count": 16,
   "id": "4fdc0c64-afc2-46b4-82a8-b49df72418a0",
   "metadata": {},
   "outputs": [
    {
     "data": {
      "text/html": [
       "<table class=\"simpletable\">\n",
       "<caption>OLS Regression Results</caption>\n",
       "<tr>\n",
       "  <th>Dep. Variable:</th>     <td>donation_dummy</td>  <th>  R-squared:         </th>  <td>   0.000</td> \n",
       "</tr>\n",
       "<tr>\n",
       "  <th>Model:</th>                   <td>OLS</td>       <th>  Adj. R-squared:    </th>  <td>   0.000</td> \n",
       "</tr>\n",
       "<tr>\n",
       "  <th>Method:</th>             <td>Least Squares</td>  <th>  F-statistic:       </th>  <td>   3.665</td> \n",
       "</tr>\n",
       "<tr>\n",
       "  <th>Date:</th>             <td>Thu, 02 Feb 2023</td> <th>  Prob (F-statistic):</th>   <td>0.0118</td>  \n",
       "</tr>\n",
       "<tr>\n",
       "  <th>Time:</th>                 <td>15:52:50</td>     <th>  Log-Likelihood:    </th>  <td>  26630.</td> \n",
       "</tr>\n",
       "<tr>\n",
       "  <th>No. Observations:</th>      <td> 50083</td>      <th>  AIC:               </th> <td>-5.325e+04</td>\n",
       "</tr>\n",
       "<tr>\n",
       "  <th>Df Residuals:</th>          <td> 50079</td>      <th>  BIC:               </th> <td>-5.322e+04</td>\n",
       "</tr>\n",
       "<tr>\n",
       "  <th>Df Model:</th>              <td>     3</td>      <th>                     </th>      <td> </td>    \n",
       "</tr>\n",
       "<tr>\n",
       "  <th>Covariance Type:</th>      <td>nonrobust</td>    <th>                     </th>      <td> </td>    \n",
       "</tr>\n",
       "</table>\n",
       "<table class=\"simpletable\">\n",
       "<tr>\n",
       "     <td></td>       <th>coef</th>     <th>std err</th>      <th>t</th>      <th>P>|t|</th>  <th>[0.025</th>    <th>0.975]</th>  \n",
       "</tr>\n",
       "<tr>\n",
       "  <th>const</th>  <td>    0.0179</td> <td>    0.001</td> <td>   16.225</td> <td> 0.000</td> <td>    0.016</td> <td>    0.020</td>\n",
       "</tr>\n",
       "<tr>\n",
       "  <th>ratio1</th> <td>    0.0029</td> <td>    0.002</td> <td>    1.661</td> <td> 0.097</td> <td>   -0.001</td> <td>    0.006</td>\n",
       "</tr>\n",
       "<tr>\n",
       "  <th>ratio2</th> <td>    0.0048</td> <td>    0.002</td> <td>    2.744</td> <td> 0.006</td> <td>    0.001</td> <td>    0.008</td>\n",
       "</tr>\n",
       "<tr>\n",
       "  <th>ratio3</th> <td>    0.0049</td> <td>    0.002</td> <td>    2.802</td> <td> 0.005</td> <td>    0.001</td> <td>    0.008</td>\n",
       "</tr>\n",
       "</table>\n",
       "<table class=\"simpletable\">\n",
       "<tr>\n",
       "  <th>Omnibus:</th>       <td>59812.754</td> <th>  Durbin-Watson:     </th>  <td>   1.997</td>  \n",
       "</tr>\n",
       "<tr>\n",
       "  <th>Prob(Omnibus):</th>  <td> 0.000</td>   <th>  Jarque-Bera (JB):  </th> <td>4316693.217</td>\n",
       "</tr>\n",
       "<tr>\n",
       "  <th>Skew:</th>           <td> 6.740</td>   <th>  Prob(JB):          </th>  <td>    0.00</td>  \n",
       "</tr>\n",
       "<tr>\n",
       "  <th>Kurtosis:</th>       <td>46.438</td>   <th>  Cond. No.          </th>  <td>    4.26</td>  \n",
       "</tr>\n",
       "</table><br/><br/>Notes:<br/>[1] Standard Errors assume that the covariance matrix of the errors is correctly specified."
      ],
      "text/plain": [
       "<class 'statsmodels.iolib.summary.Summary'>\n",
       "\"\"\"\n",
       "                            OLS Regression Results                            \n",
       "==============================================================================\n",
       "Dep. Variable:         donation_dummy   R-squared:                       0.000\n",
       "Model:                            OLS   Adj. R-squared:                  0.000\n",
       "Method:                 Least Squares   F-statistic:                     3.665\n",
       "Date:                Thu, 02 Feb 2023   Prob (F-statistic):             0.0118\n",
       "Time:                        15:52:50   Log-Likelihood:                 26630.\n",
       "No. Observations:               50083   AIC:                        -5.325e+04\n",
       "Df Residuals:                   50079   BIC:                        -5.322e+04\n",
       "Df Model:                           3                                         \n",
       "Covariance Type:            nonrobust                                         \n",
       "==============================================================================\n",
       "                 coef    std err          t      P>|t|      [0.025      0.975]\n",
       "------------------------------------------------------------------------------\n",
       "const          0.0179      0.001     16.225      0.000       0.016       0.020\n",
       "ratio1         0.0029      0.002      1.661      0.097      -0.001       0.006\n",
       "ratio2         0.0048      0.002      2.744      0.006       0.001       0.008\n",
       "ratio3         0.0049      0.002      2.802      0.005       0.001       0.008\n",
       "==============================================================================\n",
       "Omnibus:                    59812.754   Durbin-Watson:                   1.997\n",
       "Prob(Omnibus):                  0.000   Jarque-Bera (JB):          4316693.217\n",
       "Skew:                           6.740   Prob(JB):                         0.00\n",
       "Kurtosis:                      46.438   Cond. No.                         4.26\n",
       "==============================================================================\n",
       "\n",
       "Notes:\n",
       "[1] Standard Errors assume that the covariance matrix of the errors is correctly specified.\n",
       "\"\"\""
      ]
     },
     "execution_count": 16,
     "metadata": {},
     "output_type": "execute_result"
    }
   ],
   "source": [
    "m3.summary()"
   ]
  },
  {
   "cell_type": "markdown",
   "id": "2fc0e6ed-cf82-4794-8109-6216a8322b42",
   "metadata": {},
   "source": [
    "The constant can be interpreted as the average response of the control group when there is no treatment, i.e. when a match ratio isn't present.\n",
    "The other 3 coefficients are the change in the average response when the treatment (varying match ratios) is applied. The coefficients are also significant at the 90% level of confidence."
   ]
  },
  {
   "cell_type": "markdown",
   "id": "043b8e5c-c887-4f6b-8321-6e2d10a77555",
   "metadata": {},
   "source": [
    "#### Part 2, Question 3"
   ]
  },
  {
   "cell_type": "code",
   "execution_count": 17,
   "id": "9d993f88-c993-4239-b8f8-3e7a32394f32",
   "metadata": {},
   "outputs": [
    {
     "data": {
      "text/plain": [
       "0.020749124225276225"
      ]
     },
     "execution_count": 17,
     "metadata": {},
     "output_type": "execute_result"
    }
   ],
   "source": [
    "# Mean of match ratio 1:1\n",
    "m3.predict(pd.DataFrame([[1,1,0,0]]))[0]"
   ]
  },
  {
   "cell_type": "code",
   "execution_count": 18,
   "id": "22f8f084-8a32-4ffb-955f-6383697b8e3f",
   "metadata": {},
   "outputs": [
    {
     "data": {
      "text/plain": [
       "0.02263337524699132"
      ]
     },
     "execution_count": 18,
     "metadata": {},
     "output_type": "execute_result"
    }
   ],
   "source": [
    "# Mean of match ratio 2:1\n",
    "m3.predict(pd.DataFrame([[1,0,1,0]]))[0]"
   ]
  },
  {
   "cell_type": "code",
   "execution_count": 19,
   "id": "7fd1cd42-0339-4567-a944-771770a78eff",
   "metadata": {},
   "outputs": [
    {
     "data": {
      "text/plain": [
       "0.02273339922724417"
      ]
     },
     "execution_count": 19,
     "metadata": {},
     "output_type": "execute_result"
    }
   ],
   "source": [
    "# Mean of match ratio 3:1\n",
    "m3.predict(pd.DataFrame([[1,0,0,1]]))[0]"
   ]
  },
  {
   "cell_type": "markdown",
   "id": "466643c5-98f0-40a8-bb40-b074071d94d1",
   "metadata": {},
   "source": [
    "#### Part 2, Question 4\n",
    "\n",
    "The results of the regression as well as Table 2a show that using matched donations doesn't make a very big difference. The coefficients for each of the ratios in the regression and the means do not vary very much, so we can conclude that having higher ratios does not make a very significant difference in donations. These coefficients are also significant - due to their P values. Having a matching rate as a treatment on the other hand, makes a significant difference worth noticing."
   ]
  },
  {
   "cell_type": "markdown",
   "id": "5b08a7a8-d79f-461b-a734-1ab424820f8a",
   "metadata": {
    "tags": []
   },
   "source": [
    "## Part 3. Response Rates in Red/ Blue States\n",
    "***"
   ]
  },
  {
   "cell_type": "code",
   "execution_count": 20,
   "id": "9171d122-0937-402c-8889-cd131bb7f8a4",
   "metadata": {},
   "outputs": [],
   "source": [
    "df4=df.dropna(axis=0,subset=['donation_dummy','treatment','red_state_dummy'])"
   ]
  },
  {
   "cell_type": "code",
   "execution_count": 21,
   "id": "0fbedaac-b1b4-489e-8082-53fd0fea0e59",
   "metadata": {},
   "outputs": [],
   "source": [
    "df4a=df4[df4.red_state_dummy==1]\n",
    "df4b=df4[df4.red_state_dummy==0]"
   ]
  },
  {
   "cell_type": "code",
   "execution_count": 22,
   "id": "1832b602-0995-4ada-b179-cc3535751e35",
   "metadata": {},
   "outputs": [],
   "source": [
    "m4a=sm.OLS(df4a[['donation_dummy']],sm.add_constant(df4a[['treatment']])).fit()"
   ]
  },
  {
   "cell_type": "code",
   "execution_count": 23,
   "id": "58f4ae74-6bd7-4b6c-bf5f-4016e235f3e5",
   "metadata": {},
   "outputs": [
    {
     "data": {
      "text/html": [
       "<table class=\"simpletable\">\n",
       "<caption>OLS Regression Results</caption>\n",
       "<tr>\n",
       "  <th>Dep. Variable:</th>     <td>donation_dummy</td>  <th>  R-squared:         </th>  <td>   0.001</td> \n",
       "</tr>\n",
       "<tr>\n",
       "  <th>Model:</th>                   <td>OLS</td>       <th>  Adj. R-squared:    </th>  <td>   0.001</td> \n",
       "</tr>\n",
       "<tr>\n",
       "  <th>Method:</th>             <td>Least Squares</td>  <th>  F-statistic:       </th>  <td>   17.24</td> \n",
       "</tr>\n",
       "<tr>\n",
       "  <th>Date:</th>             <td>Thu, 02 Feb 2023</td> <th>  Prob (F-statistic):</th>  <td>3.31e-05</td> \n",
       "</tr>\n",
       "<tr>\n",
       "  <th>Time:</th>                 <td>15:52:51</td>     <th>  Log-Likelihood:    </th>  <td>  10839.</td> \n",
       "</tr>\n",
       "<tr>\n",
       "  <th>No. Observations:</th>      <td> 20242</td>      <th>  AIC:               </th> <td>-2.167e+04</td>\n",
       "</tr>\n",
       "<tr>\n",
       "  <th>Df Residuals:</th>          <td> 20240</td>      <th>  BIC:               </th> <td>-2.166e+04</td>\n",
       "</tr>\n",
       "<tr>\n",
       "  <th>Df Model:</th>              <td>     1</td>      <th>                     </th>      <td> </td>    \n",
       "</tr>\n",
       "<tr>\n",
       "  <th>Covariance Type:</th>      <td>nonrobust</td>    <th>                     </th>      <td> </td>    \n",
       "</tr>\n",
       "</table>\n",
       "<table class=\"simpletable\">\n",
       "<tr>\n",
       "      <td></td>         <th>coef</th>     <th>std err</th>      <th>t</th>      <th>P>|t|</th>  <th>[0.025</th>    <th>0.975]</th>  \n",
       "</tr>\n",
       "<tr>\n",
       "  <th>const</th>     <td>    0.0146</td> <td>    0.002</td> <td>    8.398</td> <td> 0.000</td> <td>    0.011</td> <td>    0.018</td>\n",
       "</tr>\n",
       "<tr>\n",
       "  <th>treatment</th> <td>    0.0088</td> <td>    0.002</td> <td>    4.152</td> <td> 0.000</td> <td>    0.005</td> <td>    0.013</td>\n",
       "</tr>\n",
       "</table>\n",
       "<table class=\"simpletable\">\n",
       "<tr>\n",
       "  <th>Omnibus:</th>       <td>24251.343</td> <th>  Durbin-Watson:     </th>  <td>   2.002</td>  \n",
       "</tr>\n",
       "<tr>\n",
       "  <th>Prob(Omnibus):</th>  <td> 0.000</td>   <th>  Jarque-Bera (JB):  </th> <td>1766349.071</td>\n",
       "</tr>\n",
       "<tr>\n",
       "  <th>Skew:</th>           <td> 6.759</td>   <th>  Prob(JB):          </th>  <td>    0.00</td>  \n",
       "</tr>\n",
       "<tr>\n",
       "  <th>Kurtosis:</th>       <td>46.721</td>   <th>  Cond. No.          </th>  <td>    3.25</td>  \n",
       "</tr>\n",
       "</table><br/><br/>Notes:<br/>[1] Standard Errors assume that the covariance matrix of the errors is correctly specified."
      ],
      "text/plain": [
       "<class 'statsmodels.iolib.summary.Summary'>\n",
       "\"\"\"\n",
       "                            OLS Regression Results                            \n",
       "==============================================================================\n",
       "Dep. Variable:         donation_dummy   R-squared:                       0.001\n",
       "Model:                            OLS   Adj. R-squared:                  0.001\n",
       "Method:                 Least Squares   F-statistic:                     17.24\n",
       "Date:                Thu, 02 Feb 2023   Prob (F-statistic):           3.31e-05\n",
       "Time:                        15:52:51   Log-Likelihood:                 10839.\n",
       "No. Observations:               20242   AIC:                        -2.167e+04\n",
       "Df Residuals:                   20240   BIC:                        -2.166e+04\n",
       "Df Model:                           1                                         \n",
       "Covariance Type:            nonrobust                                         \n",
       "==============================================================================\n",
       "                 coef    std err          t      P>|t|      [0.025      0.975]\n",
       "------------------------------------------------------------------------------\n",
       "const          0.0146      0.002      8.398      0.000       0.011       0.018\n",
       "treatment      0.0088      0.002      4.152      0.000       0.005       0.013\n",
       "==============================================================================\n",
       "Omnibus:                    24251.343   Durbin-Watson:                   2.002\n",
       "Prob(Omnibus):                  0.000   Jarque-Bera (JB):          1766349.071\n",
       "Skew:                           6.759   Prob(JB):                         0.00\n",
       "Kurtosis:                      46.721   Cond. No.                         3.25\n",
       "==============================================================================\n",
       "\n",
       "Notes:\n",
       "[1] Standard Errors assume that the covariance matrix of the errors is correctly specified.\n",
       "\"\"\""
      ]
     },
     "execution_count": 23,
     "metadata": {},
     "output_type": "execute_result"
    }
   ],
   "source": [
    "m4a.summary()"
   ]
  },
  {
   "cell_type": "code",
   "execution_count": 24,
   "id": "432272d2-7624-454a-bb34-60fd33a9801e",
   "metadata": {},
   "outputs": [],
   "source": [
    "m4b=sm.OLS(df4b[['donation_dummy']],sm.add_constant(df4b[['treatment']])).fit()"
   ]
  },
  {
   "cell_type": "code",
   "execution_count": 25,
   "id": "1f8bb5d4-bb3f-4e4e-aacb-cfa048fc5c12",
   "metadata": {},
   "outputs": [
    {
     "data": {
      "text/html": [
       "<table class=\"simpletable\">\n",
       "<caption>OLS Regression Results</caption>\n",
       "<tr>\n",
       "  <th>Dep. Variable:</th>     <td>donation_dummy</td>  <th>  R-squared:         </th>  <td>   0.000</td> \n",
       "</tr>\n",
       "<tr>\n",
       "  <th>Model:</th>                   <td>OLS</td>       <th>  Adj. R-squared:    </th>  <td>  -0.000</td> \n",
       "</tr>\n",
       "<tr>\n",
       "  <th>Method:</th>             <td>Least Squares</td>  <th>  F-statistic:       </th>  <td>  0.3567</td> \n",
       "</tr>\n",
       "<tr>\n",
       "  <th>Date:</th>             <td>Thu, 02 Feb 2023</td> <th>  Prob (F-statistic):</th>   <td> 0.550</td>  \n",
       "</tr>\n",
       "<tr>\n",
       "  <th>Time:</th>                 <td>15:52:51</td>     <th>  Log-Likelihood:    </th>  <td>  15783.</td> \n",
       "</tr>\n",
       "<tr>\n",
       "  <th>No. Observations:</th>      <td> 29806</td>      <th>  AIC:               </th> <td>-3.156e+04</td>\n",
       "</tr>\n",
       "<tr>\n",
       "  <th>Df Residuals:</th>          <td> 29804</td>      <th>  BIC:               </th> <td>-3.155e+04</td>\n",
       "</tr>\n",
       "<tr>\n",
       "  <th>Df Model:</th>              <td>     1</td>      <th>                     </th>      <td> </td>    \n",
       "</tr>\n",
       "<tr>\n",
       "  <th>Covariance Type:</th>      <td>nonrobust</td>    <th>                     </th>      <td> </td>    \n",
       "</tr>\n",
       "</table>\n",
       "<table class=\"simpletable\">\n",
       "<tr>\n",
       "      <td></td>         <th>coef</th>     <th>std err</th>      <th>t</th>      <th>P>|t|</th>  <th>[0.025</th>    <th>0.975]</th>  \n",
       "</tr>\n",
       "<tr>\n",
       "  <th>const</th>     <td>    0.0200</td> <td>    0.001</td> <td>   14.085</td> <td> 0.000</td> <td>    0.017</td> <td>    0.023</td>\n",
       "</tr>\n",
       "<tr>\n",
       "  <th>treatment</th> <td>    0.0010</td> <td>    0.002</td> <td>    0.597</td> <td> 0.550</td> <td>   -0.002</td> <td>    0.004</td>\n",
       "</tr>\n",
       "</table>\n",
       "<table class=\"simpletable\">\n",
       "<tr>\n",
       "  <th>Omnibus:</th>       <td>35568.600</td> <th>  Durbin-Watson:     </th>  <td>   1.996</td>  \n",
       "</tr>\n",
       "<tr>\n",
       "  <th>Prob(Omnibus):</th>  <td> 0.000</td>   <th>  Jarque-Bera (JB):  </th> <td>2547856.644</td>\n",
       "</tr>\n",
       "<tr>\n",
       "  <th>Skew:</th>           <td> 6.727</td>   <th>  Prob(JB):          </th>  <td>    0.00</td>  \n",
       "</tr>\n",
       "<tr>\n",
       "  <th>Kurtosis:</th>       <td>46.250</td>   <th>  Cond. No.          </th>  <td>    3.21</td>  \n",
       "</tr>\n",
       "</table><br/><br/>Notes:<br/>[1] Standard Errors assume that the covariance matrix of the errors is correctly specified."
      ],
      "text/plain": [
       "<class 'statsmodels.iolib.summary.Summary'>\n",
       "\"\"\"\n",
       "                            OLS Regression Results                            \n",
       "==============================================================================\n",
       "Dep. Variable:         donation_dummy   R-squared:                       0.000\n",
       "Model:                            OLS   Adj. R-squared:                 -0.000\n",
       "Method:                 Least Squares   F-statistic:                    0.3567\n",
       "Date:                Thu, 02 Feb 2023   Prob (F-statistic):              0.550\n",
       "Time:                        15:52:51   Log-Likelihood:                 15783.\n",
       "No. Observations:               29806   AIC:                        -3.156e+04\n",
       "Df Residuals:                   29804   BIC:                        -3.155e+04\n",
       "Df Model:                           1                                         \n",
       "Covariance Type:            nonrobust                                         \n",
       "==============================================================================\n",
       "                 coef    std err          t      P>|t|      [0.025      0.975]\n",
       "------------------------------------------------------------------------------\n",
       "const          0.0200      0.001     14.085      0.000       0.017       0.023\n",
       "treatment      0.0010      0.002      0.597      0.550      -0.002       0.004\n",
       "==============================================================================\n",
       "Omnibus:                    35568.600   Durbin-Watson:                   1.996\n",
       "Prob(Omnibus):                  0.000   Jarque-Bera (JB):          2547856.644\n",
       "Skew:                           6.727   Prob(JB):                         0.00\n",
       "Kurtosis:                      46.250   Cond. No.                         3.21\n",
       "==============================================================================\n",
       "\n",
       "Notes:\n",
       "[1] Standard Errors assume that the covariance matrix of the errors is correctly specified.\n",
       "\"\"\""
      ]
     },
     "execution_count": 25,
     "metadata": {},
     "output_type": "execute_result"
    }
   ],
   "source": [
    "m4b.summary()"
   ]
  },
  {
   "cell_type": "markdown",
   "id": "0734947a-70c7-4586-98a6-dceab87ff9ce",
   "metadata": {},
   "source": [
    "#### Part 3, Question 1\n",
    "The coefficient for treatment for the model with the red state dummy is much larger than that for the model with the blue state dummy. The red state coefficient is also statistically significant. We can infer from this that the treatment has a much greater effect in the red states and doesn't have a significant effect in the blue states."
   ]
  },
  {
   "cell_type": "markdown",
   "id": "84a9ca93-004f-47c2-9eac-58ce2fb1653c",
   "metadata": {},
   "source": [
    "#### Part 3, Question 2\n",
    "The treatment has a statistically significant effect on the red states, but it is not so in the blue states. We understand this from the coefficients and their p values. The difference in treatment effects between states may not be due to the fact that they are red or blue states, but due to the demographic and how people from these states respond to these treatments themselves."
   ]
  },
  {
   "cell_type": "markdown",
   "id": "0e3f08cb-9ce3-4eb9-87d3-9dbc94008370",
   "metadata": {
    "tags": []
   },
   "source": [
    "## Part 4. Response Rates and Donation Amount\n",
    "***"
   ]
  },
  {
   "cell_type": "code",
   "execution_count": 26,
   "id": "5f3dff31-bc26-4e16-b04b-a7b455c00e6e",
   "metadata": {},
   "outputs": [],
   "source": [
    "df5=df.dropna(axis=0,subset=['donation_amount','treatment'])"
   ]
  },
  {
   "cell_type": "code",
   "execution_count": 27,
   "id": "64c32cfa-182b-4203-a86b-628406dd11bc",
   "metadata": {},
   "outputs": [],
   "source": [
    "m5=sm.OLS(df5[['donation_amount']],sm.add_constant(df5[['treatment']])).fit()"
   ]
  },
  {
   "cell_type": "code",
   "execution_count": 28,
   "id": "279b085c-19f6-4d37-9200-9085ddb15ee2",
   "metadata": {},
   "outputs": [
    {
     "data": {
      "text/html": [
       "<table class=\"simpletable\">\n",
       "<caption>OLS Regression Results</caption>\n",
       "<tr>\n",
       "  <th>Dep. Variable:</th>     <td>donation_amount</td> <th>  R-squared:         </th>  <td>   0.000</td>  \n",
       "</tr>\n",
       "<tr>\n",
       "  <th>Model:</th>                   <td>OLS</td>       <th>  Adj. R-squared:    </th>  <td>   0.000</td>  \n",
       "</tr>\n",
       "<tr>\n",
       "  <th>Method:</th>             <td>Least Squares</td>  <th>  F-statistic:       </th>  <td>   3.461</td>  \n",
       "</tr>\n",
       "<tr>\n",
       "  <th>Date:</th>             <td>Thu, 02 Feb 2023</td> <th>  Prob (F-statistic):</th>   <td>0.0628</td>   \n",
       "</tr>\n",
       "<tr>\n",
       "  <th>Time:</th>                 <td>15:52:51</td>     <th>  Log-Likelihood:    </th> <td>-1.7946e+05</td>\n",
       "</tr>\n",
       "<tr>\n",
       "  <th>No. Observations:</th>      <td> 50083</td>      <th>  AIC:               </th>  <td>3.589e+05</td> \n",
       "</tr>\n",
       "<tr>\n",
       "  <th>Df Residuals:</th>          <td> 50081</td>      <th>  BIC:               </th>  <td>3.589e+05</td> \n",
       "</tr>\n",
       "<tr>\n",
       "  <th>Df Model:</th>              <td>     1</td>      <th>                     </th>      <td> </td>     \n",
       "</tr>\n",
       "<tr>\n",
       "  <th>Covariance Type:</th>      <td>nonrobust</td>    <th>                     </th>      <td> </td>     \n",
       "</tr>\n",
       "</table>\n",
       "<table class=\"simpletable\">\n",
       "<tr>\n",
       "      <td></td>         <th>coef</th>     <th>std err</th>      <th>t</th>      <th>P>|t|</th>  <th>[0.025</th>    <th>0.975]</th>  \n",
       "</tr>\n",
       "<tr>\n",
       "  <th>const</th>     <td>    0.8133</td> <td>    0.067</td> <td>   12.063</td> <td> 0.000</td> <td>    0.681</td> <td>    0.945</td>\n",
       "</tr>\n",
       "<tr>\n",
       "  <th>treatment</th> <td>    0.1536</td> <td>    0.083</td> <td>    1.861</td> <td> 0.063</td> <td>   -0.008</td> <td>    0.315</td>\n",
       "</tr>\n",
       "</table>\n",
       "<table class=\"simpletable\">\n",
       "<tr>\n",
       "  <th>Omnibus:</th>       <td>96861.113</td> <th>  Durbin-Watson:     </th>   <td>   1.987</td>   \n",
       "</tr>\n",
       "<tr>\n",
       "  <th>Prob(Omnibus):</th>  <td> 0.000</td>   <th>  Jarque-Bera (JB):  </th> <td>240735713.630</td>\n",
       "</tr>\n",
       "<tr>\n",
       "  <th>Skew:</th>           <td>15.297</td>   <th>  Prob(JB):          </th>   <td>    0.00</td>   \n",
       "</tr>\n",
       "<tr>\n",
       "  <th>Kurtosis:</th>       <td>341.269</td>  <th>  Cond. No.          </th>   <td>    3.23</td>   \n",
       "</tr>\n",
       "</table><br/><br/>Notes:<br/>[1] Standard Errors assume that the covariance matrix of the errors is correctly specified."
      ],
      "text/plain": [
       "<class 'statsmodels.iolib.summary.Summary'>\n",
       "\"\"\"\n",
       "                            OLS Regression Results                            \n",
       "==============================================================================\n",
       "Dep. Variable:        donation_amount   R-squared:                       0.000\n",
       "Model:                            OLS   Adj. R-squared:                  0.000\n",
       "Method:                 Least Squares   F-statistic:                     3.461\n",
       "Date:                Thu, 02 Feb 2023   Prob (F-statistic):             0.0628\n",
       "Time:                        15:52:51   Log-Likelihood:            -1.7946e+05\n",
       "No. Observations:               50083   AIC:                         3.589e+05\n",
       "Df Residuals:                   50081   BIC:                         3.589e+05\n",
       "Df Model:                           1                                         \n",
       "Covariance Type:            nonrobust                                         \n",
       "==============================================================================\n",
       "                 coef    std err          t      P>|t|      [0.025      0.975]\n",
       "------------------------------------------------------------------------------\n",
       "const          0.8133      0.067     12.063      0.000       0.681       0.945\n",
       "treatment      0.1536      0.083      1.861      0.063      -0.008       0.315\n",
       "==============================================================================\n",
       "Omnibus:                    96861.113   Durbin-Watson:                   1.987\n",
       "Prob(Omnibus):                  0.000   Jarque-Bera (JB):        240735713.630\n",
       "Skew:                          15.297   Prob(JB):                         0.00\n",
       "Kurtosis:                     341.269   Cond. No.                         3.23\n",
       "==============================================================================\n",
       "\n",
       "Notes:\n",
       "[1] Standard Errors assume that the covariance matrix of the errors is correctly specified.\n",
       "\"\"\""
      ]
     },
     "execution_count": 28,
     "metadata": {},
     "output_type": "execute_result"
    }
   ],
   "source": [
    "m5.summary()"
   ]
  },
  {
   "cell_type": "markdown",
   "id": "09b40c0b-dfd2-448b-970b-017963b60824",
   "metadata": {},
   "source": [
    "#### Part 4, Question 1\n",
    "The constant shows the average of donation amount among the control set, and the coefficient shows the added effect of the treatment. The coefficient is significant at a 90% confidence level but not at a 95% confidence level. This raises the suspicion that the treatment may effect whether or not someone donates, but not the amount they choose to donate. We investigate further in the next part where we run the regression only when the donation dummy is equal to 1.\n"
   ]
  },
  {
   "cell_type": "code",
   "execution_count": 29,
   "id": "17e10d17-9f53-4ca1-bd68-f5a7551a1aeb",
   "metadata": {},
   "outputs": [],
   "source": [
    "df6=df5[df5.donation_dummy==1]"
   ]
  },
  {
   "cell_type": "code",
   "execution_count": 30,
   "id": "d45a463a-8ced-4d29-bfce-168c38f16967",
   "metadata": {},
   "outputs": [],
   "source": [
    "m6=sm.OLS(df6[['donation_amount']],sm.add_constant(df6[['treatment']])).fit()"
   ]
  },
  {
   "cell_type": "code",
   "execution_count": 31,
   "id": "cbc5fbe2-a1f4-45c3-bdc1-6d5b05075fb7",
   "metadata": {},
   "outputs": [
    {
     "data": {
      "text/html": [
       "<table class=\"simpletable\">\n",
       "<caption>OLS Regression Results</caption>\n",
       "<tr>\n",
       "  <th>Dep. Variable:</th>     <td>donation_amount</td> <th>  R-squared:         </th> <td>   0.000</td> \n",
       "</tr>\n",
       "<tr>\n",
       "  <th>Model:</th>                   <td>OLS</td>       <th>  Adj. R-squared:    </th> <td>  -0.001</td> \n",
       "</tr>\n",
       "<tr>\n",
       "  <th>Method:</th>             <td>Least Squares</td>  <th>  F-statistic:       </th> <td>  0.3374</td> \n",
       "</tr>\n",
       "<tr>\n",
       "  <th>Date:</th>             <td>Thu, 02 Feb 2023</td> <th>  Prob (F-statistic):</th>  <td> 0.561</td>  \n",
       "</tr>\n",
       "<tr>\n",
       "  <th>Time:</th>                 <td>15:52:51</td>     <th>  Log-Likelihood:    </th> <td> -5326.8</td> \n",
       "</tr>\n",
       "<tr>\n",
       "  <th>No. Observations:</th>      <td>  1034</td>      <th>  AIC:               </th> <td>1.066e+04</td>\n",
       "</tr>\n",
       "<tr>\n",
       "  <th>Df Residuals:</th>          <td>  1032</td>      <th>  BIC:               </th> <td>1.067e+04</td>\n",
       "</tr>\n",
       "<tr>\n",
       "  <th>Df Model:</th>              <td>     1</td>      <th>                     </th>     <td> </td>    \n",
       "</tr>\n",
       "<tr>\n",
       "  <th>Covariance Type:</th>      <td>nonrobust</td>    <th>                     </th>     <td> </td>    \n",
       "</tr>\n",
       "</table>\n",
       "<table class=\"simpletable\">\n",
       "<tr>\n",
       "      <td></td>         <th>coef</th>     <th>std err</th>      <th>t</th>      <th>P>|t|</th>  <th>[0.025</th>    <th>0.975]</th>  \n",
       "</tr>\n",
       "<tr>\n",
       "  <th>const</th>     <td>   45.5403</td> <td>    2.423</td> <td>   18.792</td> <td> 0.000</td> <td>   40.785</td> <td>   50.296</td>\n",
       "</tr>\n",
       "<tr>\n",
       "  <th>treatment</th> <td>   -1.6684</td> <td>    2.872</td> <td>   -0.581</td> <td> 0.561</td> <td>   -7.305</td> <td>    3.968</td>\n",
       "</tr>\n",
       "</table>\n",
       "<table class=\"simpletable\">\n",
       "<tr>\n",
       "  <th>Omnibus:</th>       <td>587.258</td> <th>  Durbin-Watson:     </th> <td>   1.838</td>\n",
       "</tr>\n",
       "<tr>\n",
       "  <th>Prob(Omnibus):</th> <td> 0.000</td>  <th>  Jarque-Bera (JB):  </th> <td>5623.279</td>\n",
       "</tr>\n",
       "<tr>\n",
       "  <th>Skew:</th>          <td> 2.464</td>  <th>  Prob(JB):          </th> <td>    0.00</td>\n",
       "</tr>\n",
       "<tr>\n",
       "  <th>Kurtosis:</th>      <td>13.307</td>  <th>  Cond. No.          </th> <td>    3.49</td>\n",
       "</tr>\n",
       "</table><br/><br/>Notes:<br/>[1] Standard Errors assume that the covariance matrix of the errors is correctly specified."
      ],
      "text/plain": [
       "<class 'statsmodels.iolib.summary.Summary'>\n",
       "\"\"\"\n",
       "                            OLS Regression Results                            \n",
       "==============================================================================\n",
       "Dep. Variable:        donation_amount   R-squared:                       0.000\n",
       "Model:                            OLS   Adj. R-squared:                 -0.001\n",
       "Method:                 Least Squares   F-statistic:                    0.3374\n",
       "Date:                Thu, 02 Feb 2023   Prob (F-statistic):              0.561\n",
       "Time:                        15:52:51   Log-Likelihood:                -5326.8\n",
       "No. Observations:                1034   AIC:                         1.066e+04\n",
       "Df Residuals:                    1032   BIC:                         1.067e+04\n",
       "Df Model:                           1                                         \n",
       "Covariance Type:            nonrobust                                         \n",
       "==============================================================================\n",
       "                 coef    std err          t      P>|t|      [0.025      0.975]\n",
       "------------------------------------------------------------------------------\n",
       "const         45.5403      2.423     18.792      0.000      40.785      50.296\n",
       "treatment     -1.6684      2.872     -0.581      0.561      -7.305       3.968\n",
       "==============================================================================\n",
       "Omnibus:                      587.258   Durbin-Watson:                   1.838\n",
       "Prob(Omnibus):                  0.000   Jarque-Bera (JB):             5623.279\n",
       "Skew:                           2.464   Prob(JB):                         0.00\n",
       "Kurtosis:                      13.307   Cond. No.                         3.49\n",
       "==============================================================================\n",
       "\n",
       "Notes:\n",
       "[1] Standard Errors assume that the covariance matrix of the errors is correctly specified.\n",
       "\"\"\""
      ]
     },
     "execution_count": 31,
     "metadata": {},
     "output_type": "execute_result"
    }
   ],
   "source": [
    "m6.summary()"
   ]
  },
  {
   "cell_type": "markdown",
   "id": "913915cb-ea53-4fc9-ad26-d8e7886e034f",
   "metadata": {},
   "source": [
    "#### Part 4, Question 2\n",
    "The constant shows the average of donation amount among the control set, and the coefficient shows the added effect of the treatment, but only among the candidates that made a donation. The suspicion in the previous part was valid, since we see that the treatment doesn't really have an effect on the amount of donation made, just whether a donation was made or not. The coefficient in the above regression is not only tiny and negative, but also statistically not significant."
   ]
  }
 ],
 "metadata": {
  "kernelspec": {
   "display_name": "Python 3 (ipykernel)",
   "language": "python",
   "name": "python3"
  },
  "language_info": {
   "codemirror_mode": {
    "name": "ipython",
    "version": 3
   },
   "file_extension": ".py",
   "mimetype": "text/x-python",
   "name": "python",
   "nbconvert_exporter": "python",
   "pygments_lexer": "ipython3",
   "version": "3.9.13"
  }
 },
 "nbformat": 4,
 "nbformat_minor": 5
}
